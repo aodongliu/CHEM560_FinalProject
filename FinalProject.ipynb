{
 "cells": [
  {
   "cell_type": "code",
   "execution_count": 3,
   "metadata": {
    "jupyter": {
     "outputs_hidden": false,
     "source_hidden": false
    },
    "nteract": {
     "transient": {
      "deleting": false
     }
    }
   },
   "outputs": [
    {
     "name": "stdout",
     "output_type": "stream",
     "text": [
      "Collecting qiskit\n",
      "  Downloading qiskit-0.36.2.tar.gz (13 kB)\n",
      "Collecting qiskit-terra==0.20.2\n",
      "  Downloading qiskit_terra-0.20.2-cp39-cp39-macosx_10_9_x86_64.whl (6.2 MB)\n",
      "\u001b[K     |████████████████████████████████| 6.2 MB 17.6 MB/s eta 0:00:01\n",
      "\u001b[?25hCollecting qiskit-aer==0.10.4\n",
      "  Downloading qiskit_aer-0.10.4-cp39-cp39-macosx_10_9_x86_64.whl (8.6 MB)\n",
      "\u001b[K     |████████████████████████████████| 8.6 MB 17.8 MB/s eta 0:00:01\n",
      "\u001b[?25hCollecting qiskit-ibmq-provider==0.19.1\n",
      "  Downloading qiskit_ibmq_provider-0.19.1-py3-none-any.whl (240 kB)\n",
      "\u001b[K     |████████████████████████████████| 240 kB 121.5 MB/s eta 0:00:01\n",
      "\u001b[?25hCollecting qiskit-ignis==0.7.1\n",
      "  Downloading qiskit_ignis-0.7.1-py3-none-any.whl (198 kB)\n",
      "\u001b[K     |████████████████████████████████| 198 kB 99.3 MB/s eta 0:00:01\n",
      "\u001b[?25hRequirement already satisfied: scipy>=1.0 in /Users/blink/Applications/anaconda3/lib/python3.9/site-packages (from qiskit-aer==0.10.4->qiskit) (1.7.1)\n",
      "Requirement already satisfied: numpy>=1.16.3 in /Users/blink/Applications/anaconda3/lib/python3.9/site-packages (from qiskit-aer==0.10.4->qiskit) (1.22.3)\n",
      "Collecting websockets>=10.0\n",
      "  Downloading websockets-10.3-cp39-cp39-macosx_10_9_x86_64.whl (97 kB)\n",
      "\u001b[K     |████████████████████████████████| 97 kB 38.0 MB/s  eta 0:00:01\n",
      "\u001b[?25hCollecting requests-ntlm>=1.1.0\n",
      "  Using cached requests_ntlm-1.1.0-py2.py3-none-any.whl (5.7 kB)\n",
      "Collecting websocket-client>=1.0.1\n",
      "  Downloading websocket_client-1.3.2-py3-none-any.whl (54 kB)\n",
      "\u001b[K     |████████████████████████████████| 54 kB 18.4 MB/s eta 0:00:01\n",
      "\u001b[?25hRequirement already satisfied: python-dateutil>=2.8.0 in /Users/blink/Applications/anaconda3/lib/python3.9/site-packages (from qiskit-ibmq-provider==0.19.1->qiskit) (2.8.2)\n",
      "Requirement already satisfied: requests>=2.19 in /Users/blink/Applications/anaconda3/lib/python3.9/site-packages (from qiskit-ibmq-provider==0.19.1->qiskit) (2.27.1)\n",
      "Requirement already satisfied: urllib3>=1.21.1 in /Users/blink/Applications/anaconda3/lib/python3.9/site-packages (from qiskit-ibmq-provider==0.19.1->qiskit) (1.26.9)\n",
      "Collecting retworkx>=0.8.0\n",
      "  Downloading retworkx-0.11.0-cp39-cp39-macosx_10_9_x86_64.whl (1.3 MB)\n",
      "\u001b[K     |████████████████████████████████| 1.3 MB 107.9 MB/s eta 0:00:01\n",
      "\u001b[?25hRequirement already satisfied: setuptools>=40.1.0 in /Users/blink/Applications/anaconda3/lib/python3.9/site-packages (from qiskit-ignis==0.7.1->qiskit) (61.2.0)\n",
      "Collecting symengine>=0.9\n",
      "  Downloading symengine-0.9.2-cp39-cp39-macosx_10_9_x86_64.whl (17.8 MB)\n",
      "\u001b[K     |████████████████████████████████| 17.8 MB 27.2 MB/s eta 0:00:01\n",
      "\u001b[?25hCollecting stevedore>=3.0.0\n",
      "  Using cached stevedore-3.5.0-py3-none-any.whl (49 kB)\n",
      "Collecting dill>=0.3\n",
      "  Downloading dill-0.3.5.1-py2.py3-none-any.whl (95 kB)\n",
      "\u001b[K     |████████████████████████████████| 95 kB 26.7 MB/s  eta 0:00:01\n",
      "\u001b[?25hRequirement already satisfied: ply>=3.10 in /Users/blink/Applications/anaconda3/lib/python3.9/site-packages (from qiskit-terra==0.20.2->qiskit) (3.11)\n",
      "Collecting python-constraint>=1.4\n",
      "  Using cached python-constraint-1.4.0.tar.bz2 (18 kB)\n",
      "Requirement already satisfied: psutil>=5 in /Users/blink/Applications/anaconda3/lib/python3.9/site-packages (from qiskit-terra==0.20.2->qiskit) (5.8.0)\n",
      "Requirement already satisfied: sympy>=1.3 in /Users/blink/Applications/anaconda3/lib/python3.9/site-packages (from qiskit-terra==0.20.2->qiskit) (1.10.1)\n",
      "Collecting tweedledum<2.0,>=1.1\n",
      "  Downloading tweedledum-1.1.1-cp39-cp39-macosx_10_15_x86_64.whl (961 kB)\n",
      "\u001b[K     |████████████████████████████████| 961 kB 88.4 MB/s eta 0:00:01\n",
      "\u001b[?25hRequirement already satisfied: six>=1.5 in /Users/blink/Applications/anaconda3/lib/python3.9/site-packages (from python-dateutil>=2.8.0->qiskit-ibmq-provider==0.19.1->qiskit) (1.16.0)\n",
      "Requirement already satisfied: idna<4,>=2.5 in /Users/blink/Applications/anaconda3/lib/python3.9/site-packages (from requests>=2.19->qiskit-ibmq-provider==0.19.1->qiskit) (3.3)\n",
      "Requirement already satisfied: certifi>=2017.4.17 in /Users/blink/Applications/anaconda3/lib/python3.9/site-packages (from requests>=2.19->qiskit-ibmq-provider==0.19.1->qiskit) (2021.10.8)\n",
      "Requirement already satisfied: charset-normalizer~=2.0.0 in /Users/blink/Applications/anaconda3/lib/python3.9/site-packages (from requests>=2.19->qiskit-ibmq-provider==0.19.1->qiskit) (2.0.4)\n",
      "Collecting ntlm-auth>=1.0.2\n",
      "  Using cached ntlm_auth-1.5.0-py2.py3-none-any.whl (29 kB)\n",
      "Requirement already satisfied: cryptography>=1.3 in /Users/blink/Applications/anaconda3/lib/python3.9/site-packages (from requests-ntlm>=1.1.0->qiskit-ibmq-provider==0.19.1->qiskit) (3.4.8)\n",
      "Requirement already satisfied: cffi>=1.12 in /Users/blink/Applications/anaconda3/lib/python3.9/site-packages (from cryptography>=1.3->requests-ntlm>=1.1.0->qiskit-ibmq-provider==0.19.1->qiskit) (1.15.0)\n",
      "Requirement already satisfied: pycparser in /Users/blink/Applications/anaconda3/lib/python3.9/site-packages (from cffi>=1.12->cryptography>=1.3->requests-ntlm>=1.1.0->qiskit-ibmq-provider==0.19.1->qiskit) (2.21)\n",
      "Collecting pbr!=2.1.0,>=2.0.0\n",
      "  Downloading pbr-5.9.0-py2.py3-none-any.whl (112 kB)\n",
      "\u001b[K     |████████████████████████████████| 112 kB 106.5 MB/s eta 0:00:01\n",
      "\u001b[?25hRequirement already satisfied: mpmath>=0.19 in /Users/blink/Applications/anaconda3/lib/python3.9/site-packages (from sympy>=1.3->qiskit-terra==0.20.2->qiskit) (1.2.1)\n",
      "Building wheels for collected packages: qiskit, python-constraint\n",
      "  Building wheel for qiskit (setup.py) ... \u001b[?25ldone\n",
      "\u001b[?25h  Created wheel for qiskit: filename=qiskit-0.36.2-py3-none-any.whl size=11933 sha256=04e5b6e9c9c11c981cfbd51a3d08ec91576c91ef803780259cd05b92c70acea4\n",
      "  Stored in directory: /Users/blink/Library/Caches/pip/wheels/6f/20/09/b7a3e03a2b419110537f0ba948a829d42116bae86603b5fd32\n",
      "  Building wheel for python-constraint (setup.py) ... \u001b[?25ldone\n",
      "\u001b[?25h  Created wheel for python-constraint: filename=python_constraint-1.4.0-py2.py3-none-any.whl size=24081 sha256=48626c73b666a92ac70ae2b386c11c557c2200966c48e80c6242dc323b6da7fc\n",
      "  Stored in directory: /Users/blink/Library/Caches/pip/wheels/51/36/1f/c2ccb8dc4eba38c5215636d4ae2c480b32069cab0376bcc1a4\n",
      "Successfully built qiskit python-constraint\n",
      "Installing collected packages: pbr, tweedledum, symengine, stevedore, retworkx, python-constraint, ntlm-auth, dill, websockets, websocket-client, requests-ntlm, qiskit-terra, qiskit-ignis, qiskit-ibmq-provider, qiskit-aer, qiskit\n",
      "  Attempting uninstall: websocket-client\n",
      "    Found existing installation: websocket-client 0.58.0\n",
      "    Uninstalling websocket-client-0.58.0:\n",
      "      Successfully uninstalled websocket-client-0.58.0\n",
      "Successfully installed dill-0.3.5.1 ntlm-auth-1.5.0 pbr-5.9.0 python-constraint-1.4.0 qiskit-0.36.2 qiskit-aer-0.10.4 qiskit-ibmq-provider-0.19.1 qiskit-ignis-0.7.1 qiskit-terra-0.20.2 requests-ntlm-1.1.0 retworkx-0.11.0 stevedore-3.5.0 symengine-0.9.2 tweedledum-1.1.1 websocket-client-1.3.2 websockets-10.3\n",
      "Collecting qiskit_experiments\n",
      "  Downloading qiskit_experiments-0.3.1-py3-none-any.whl (383 kB)\n",
      "\u001b[K     |████████████████████████████████| 383 kB 28.6 MB/s eta 0:00:01\n",
      "\u001b[?25hRequirement already satisfied: matplotlib>=3.4 in /Users/blink/Applications/anaconda3/lib/python3.9/site-packages (from qiskit_experiments) (3.4.3)\n",
      "Collecting uncertainties\n",
      "  Downloading uncertainties-3.1.6-py2.py3-none-any.whl (98 kB)\n",
      "\u001b[K     |████████████████████████████████| 98 kB 40.7 MB/s  eta 0:00:01\n",
      "\u001b[?25hRequirement already satisfied: scipy>=1.4 in /Users/blink/Applications/anaconda3/lib/python3.9/site-packages (from qiskit_experiments) (1.7.1)\n",
      "Requirement already satisfied: qiskit-ibmq-provider>=0.16.0 in /Users/blink/Applications/anaconda3/lib/python3.9/site-packages (from qiskit_experiments) (0.19.1)\n",
      "Requirement already satisfied: qiskit-terra>=0.20.1 in /Users/blink/Applications/anaconda3/lib/python3.9/site-packages (from qiskit_experiments) (0.20.2)\n",
      "Requirement already satisfied: numpy>=1.17 in /Users/blink/Applications/anaconda3/lib/python3.9/site-packages (from qiskit_experiments) (1.22.3)\n",
      "Requirement already satisfied: pyparsing>=2.2.1 in /Users/blink/Applications/anaconda3/lib/python3.9/site-packages (from matplotlib>=3.4->qiskit_experiments) (3.0.4)\n",
      "Requirement already satisfied: cycler>=0.10 in /Users/blink/Applications/anaconda3/lib/python3.9/site-packages (from matplotlib>=3.4->qiskit_experiments) (0.11.0)\n",
      "Requirement already satisfied: kiwisolver>=1.0.1 in /Users/blink/Applications/anaconda3/lib/python3.9/site-packages (from matplotlib>=3.4->qiskit_experiments) (1.3.2)\n",
      "Requirement already satisfied: pillow>=6.2.0 in /Users/blink/Applications/anaconda3/lib/python3.9/site-packages (from matplotlib>=3.4->qiskit_experiments) (9.0.1)\n",
      "Requirement already satisfied: python-dateutil>=2.7 in /Users/blink/Applications/anaconda3/lib/python3.9/site-packages (from matplotlib>=3.4->qiskit_experiments) (2.8.2)\n",
      "Requirement already satisfied: six>=1.5 in /Users/blink/Applications/anaconda3/lib/python3.9/site-packages (from python-dateutil>=2.7->matplotlib>=3.4->qiskit_experiments) (1.16.0)\n",
      "Requirement already satisfied: requests-ntlm>=1.1.0 in /Users/blink/Applications/anaconda3/lib/python3.9/site-packages (from qiskit-ibmq-provider>=0.16.0->qiskit_experiments) (1.1.0)\n",
      "Requirement already satisfied: websockets>=10.0 in /Users/blink/Applications/anaconda3/lib/python3.9/site-packages (from qiskit-ibmq-provider>=0.16.0->qiskit_experiments) (10.3)\n",
      "Requirement already satisfied: websocket-client>=1.0.1 in /Users/blink/Applications/anaconda3/lib/python3.9/site-packages (from qiskit-ibmq-provider>=0.16.0->qiskit_experiments) (1.3.2)\n",
      "Requirement already satisfied: requests>=2.19 in /Users/blink/Applications/anaconda3/lib/python3.9/site-packages (from qiskit-ibmq-provider>=0.16.0->qiskit_experiments) (2.27.1)\n",
      "Requirement already satisfied: urllib3>=1.21.1 in /Users/blink/Applications/anaconda3/lib/python3.9/site-packages (from qiskit-ibmq-provider>=0.16.0->qiskit_experiments) (1.26.9)\n"
     ]
    },
    {
     "name": "stdout",
     "output_type": "stream",
     "text": [
      "Requirement already satisfied: symengine>=0.9 in /Users/blink/Applications/anaconda3/lib/python3.9/site-packages (from qiskit-terra>=0.20.1->qiskit_experiments) (0.9.2)\n",
      "Requirement already satisfied: sympy>=1.3 in /Users/blink/Applications/anaconda3/lib/python3.9/site-packages (from qiskit-terra>=0.20.1->qiskit_experiments) (1.10.1)\n",
      "Requirement already satisfied: dill>=0.3 in /Users/blink/Applications/anaconda3/lib/python3.9/site-packages (from qiskit-terra>=0.20.1->qiskit_experiments) (0.3.5.1)\n",
      "Requirement already satisfied: psutil>=5 in /Users/blink/Applications/anaconda3/lib/python3.9/site-packages (from qiskit-terra>=0.20.1->qiskit_experiments) (5.8.0)\n",
      "Requirement already satisfied: python-constraint>=1.4 in /Users/blink/Applications/anaconda3/lib/python3.9/site-packages (from qiskit-terra>=0.20.1->qiskit_experiments) (1.4.0)\n",
      "Requirement already satisfied: tweedledum<2.0,>=1.1 in /Users/blink/Applications/anaconda3/lib/python3.9/site-packages (from qiskit-terra>=0.20.1->qiskit_experiments) (1.1.1)\n",
      "Requirement already satisfied: stevedore>=3.0.0 in /Users/blink/Applications/anaconda3/lib/python3.9/site-packages (from qiskit-terra>=0.20.1->qiskit_experiments) (3.5.0)\n",
      "Requirement already satisfied: retworkx>=0.11.0 in /Users/blink/Applications/anaconda3/lib/python3.9/site-packages (from qiskit-terra>=0.20.1->qiskit_experiments) (0.11.0)\n",
      "Requirement already satisfied: ply>=3.10 in /Users/blink/Applications/anaconda3/lib/python3.9/site-packages (from qiskit-terra>=0.20.1->qiskit_experiments) (3.11)\n",
      "Requirement already satisfied: certifi>=2017.4.17 in /Users/blink/Applications/anaconda3/lib/python3.9/site-packages (from requests>=2.19->qiskit-ibmq-provider>=0.16.0->qiskit_experiments) (2021.10.8)\n",
      "Requirement already satisfied: charset-normalizer~=2.0.0 in /Users/blink/Applications/anaconda3/lib/python3.9/site-packages (from requests>=2.19->qiskit-ibmq-provider>=0.16.0->qiskit_experiments) (2.0.4)\n",
      "Requirement already satisfied: idna<4,>=2.5 in /Users/blink/Applications/anaconda3/lib/python3.9/site-packages (from requests>=2.19->qiskit-ibmq-provider>=0.16.0->qiskit_experiments) (3.3)\n",
      "Requirement already satisfied: cryptography>=1.3 in /Users/blink/Applications/anaconda3/lib/python3.9/site-packages (from requests-ntlm>=1.1.0->qiskit-ibmq-provider>=0.16.0->qiskit_experiments) (3.4.8)\n",
      "Requirement already satisfied: ntlm-auth>=1.0.2 in /Users/blink/Applications/anaconda3/lib/python3.9/site-packages (from requests-ntlm>=1.1.0->qiskit-ibmq-provider>=0.16.0->qiskit_experiments) (1.5.0)\n",
      "Requirement already satisfied: cffi>=1.12 in /Users/blink/Applications/anaconda3/lib/python3.9/site-packages (from cryptography>=1.3->requests-ntlm>=1.1.0->qiskit-ibmq-provider>=0.16.0->qiskit_experiments) (1.15.0)\n",
      "Requirement already satisfied: pycparser in /Users/blink/Applications/anaconda3/lib/python3.9/site-packages (from cffi>=1.12->cryptography>=1.3->requests-ntlm>=1.1.0->qiskit-ibmq-provider>=0.16.0->qiskit_experiments) (2.21)\n",
      "Requirement already satisfied: pbr!=2.1.0,>=2.0.0 in /Users/blink/Applications/anaconda3/lib/python3.9/site-packages (from stevedore>=3.0.0->qiskit-terra>=0.20.1->qiskit_experiments) (5.9.0)\n",
      "Requirement already satisfied: mpmath>=0.19 in /Users/blink/Applications/anaconda3/lib/python3.9/site-packages (from sympy>=1.3->qiskit-terra>=0.20.1->qiskit_experiments) (1.2.1)\n",
      "Requirement already satisfied: future in /Users/blink/Applications/anaconda3/lib/python3.9/site-packages (from uncertainties->qiskit_experiments) (0.18.2)\n",
      "Installing collected packages: uncertainties, qiskit-experiments\n",
      "Successfully installed qiskit-experiments-0.3.1 uncertainties-3.1.6\n",
      "Collecting azure-quantum[qiskit]==0.23.201228b1\n",
      "  Downloading azure_quantum-0.23.201228b1-py3-none-any.whl (159 kB)\n",
      "\u001b[K     |████████████████████████████████| 159 kB 36.2 MB/s eta 0:00:01\n",
      "\u001b[?25hRequirement already satisfied: aiohttp>=3.7.0 in /Users/blink/Applications/anaconda3/lib/python3.9/site-packages (from azure-quantum[qiskit]==0.23.201228b1) (3.8.1)\n",
      "Requirement already satisfied: msrest>=0.6.21 in /Users/blink/Applications/anaconda3/lib/python3.9/site-packages (from azure-quantum[qiskit]==0.23.201228b1) (0.6.21)\n",
      "Requirement already satisfied: azure-core>=1.19.1 in /Users/blink/Applications/anaconda3/lib/python3.9/site-packages (from azure-quantum[qiskit]==0.23.201228b1) (1.23.1)\n",
      "Requirement already satisfied: numpy>=1.21.0 in /Users/blink/Applications/anaconda3/lib/python3.9/site-packages (from azure-quantum[qiskit]==0.23.201228b1) (1.22.3)\n",
      "Requirement already satisfied: protobuf>=3.14.0 in /Users/blink/Applications/anaconda3/lib/python3.9/site-packages (from azure-quantum[qiskit]==0.23.201228b1) (3.19.4)\n",
      "Requirement already satisfied: aiofile>=3.7.2 in /Users/blink/Applications/anaconda3/lib/python3.9/site-packages (from azure-quantum[qiskit]==0.23.201228b1) (3.7.4)\n",
      "Requirement already satisfied: azure-identity>=1.6.0 in /Users/blink/Applications/anaconda3/lib/python3.9/site-packages (from azure-quantum[qiskit]==0.23.201228b1) (1.8.0)\n",
      "Requirement already satisfied: deprecated>=1.2.12 in /Users/blink/Applications/anaconda3/lib/python3.9/site-packages (from azure-quantum[qiskit]==0.23.201228b1) (1.2.13)\n",
      "Requirement already satisfied: azure-storage-blob>=12.8.1 in /Users/blink/Applications/anaconda3/lib/python3.9/site-packages (from azure-quantum[qiskit]==0.23.201228b1) (12.11.0)\n",
      "Collecting qiskit-ionq>=0.1.4\n",
      "  Using cached qiskit_ionq-0.3.3-py3-none-any.whl (34 kB)\n",
      "Requirement already satisfied: qiskit-terra>=0.19.1 in /Users/blink/Applications/anaconda3/lib/python3.9/site-packages (from azure-quantum[qiskit]==0.23.201228b1) (0.20.2)\n",
      "Requirement already satisfied: caio~=0.9.0 in /Users/blink/Applications/anaconda3/lib/python3.9/site-packages (from aiofile>=3.7.2->azure-quantum[qiskit]==0.23.201228b1) (0.9.5)\n",
      "Requirement already satisfied: frozenlist>=1.1.1 in /Users/blink/Applications/anaconda3/lib/python3.9/site-packages (from aiohttp>=3.7.0->azure-quantum[qiskit]==0.23.201228b1) (1.3.0)\n",
      "Requirement already satisfied: charset-normalizer<3.0,>=2.0 in /Users/blink/Applications/anaconda3/lib/python3.9/site-packages (from aiohttp>=3.7.0->azure-quantum[qiskit]==0.23.201228b1) (2.0.4)\n",
      "Requirement already satisfied: async-timeout<5.0,>=4.0.0a3 in /Users/blink/Applications/anaconda3/lib/python3.9/site-packages (from aiohttp>=3.7.0->azure-quantum[qiskit]==0.23.201228b1) (4.0.2)\n",
      "Requirement already satisfied: multidict<7.0,>=4.5 in /Users/blink/Applications/anaconda3/lib/python3.9/site-packages (from aiohttp>=3.7.0->azure-quantum[qiskit]==0.23.201228b1) (6.0.2)\n",
      "Requirement already satisfied: yarl<2.0,>=1.0 in /Users/blink/Applications/anaconda3/lib/python3.9/site-packages (from aiohttp>=3.7.0->azure-quantum[qiskit]==0.23.201228b1) (1.7.2)\n",
      "Requirement already satisfied: aiosignal>=1.1.2 in /Users/blink/Applications/anaconda3/lib/python3.9/site-packages (from aiohttp>=3.7.0->azure-quantum[qiskit]==0.23.201228b1) (1.2.0)\n",
      "Requirement already satisfied: attrs>=17.3.0 in /Users/blink/Applications/anaconda3/lib/python3.9/site-packages (from aiohttp>=3.7.0->azure-quantum[qiskit]==0.23.201228b1) (21.4.0)\n",
      "Requirement already satisfied: six>=1.11.0 in /Users/blink/Applications/anaconda3/lib/python3.9/site-packages (from azure-core>=1.19.1->azure-quantum[qiskit]==0.23.201228b1) (1.16.0)\n",
      "Requirement already satisfied: requests>=2.18.4 in /Users/blink/Applications/anaconda3/lib/python3.9/site-packages (from azure-core>=1.19.1->azure-quantum[qiskit]==0.23.201228b1) (2.27.1)\n",
      "Requirement already satisfied: typing-extensions>=4.0.1 in /Users/blink/Applications/anaconda3/lib/python3.9/site-packages (from azure-core>=1.19.1->azure-quantum[qiskit]==0.23.201228b1) (4.1.1)\n",
      "Requirement already satisfied: msal-extensions~=0.3.0 in /Users/blink/Applications/anaconda3/lib/python3.9/site-packages (from azure-identity>=1.6.0->azure-quantum[qiskit]==0.23.201228b1) (0.3.1)\n",
      "Requirement already satisfied: cryptography>=2.5 in /Users/blink/Applications/anaconda3/lib/python3.9/site-packages (from azure-identity>=1.6.0->azure-quantum[qiskit]==0.23.201228b1) (3.4.8)\n",
      "Requirement already satisfied: msal<2.0.0,>=1.12.0 in /Users/blink/Applications/anaconda3/lib/python3.9/site-packages (from azure-identity>=1.6.0->azure-quantum[qiskit]==0.23.201228b1) (1.17.0)\n"
     ]
    },
    {
     "name": "stdout",
     "output_type": "stream",
     "text": [
      "Requirement already satisfied: cffi>=1.12 in /Users/blink/Applications/anaconda3/lib/python3.9/site-packages (from cryptography>=2.5->azure-identity>=1.6.0->azure-quantum[qiskit]==0.23.201228b1) (1.15.0)\n",
      "Requirement already satisfied: pycparser in /Users/blink/Applications/anaconda3/lib/python3.9/site-packages (from cffi>=1.12->cryptography>=2.5->azure-identity>=1.6.0->azure-quantum[qiskit]==0.23.201228b1) (2.21)\n",
      "Requirement already satisfied: wrapt<2,>=1.10 in /Users/blink/Applications/anaconda3/lib/python3.9/site-packages (from deprecated>=1.2.12->azure-quantum[qiskit]==0.23.201228b1) (1.12.1)\n",
      "Requirement already satisfied: PyJWT[crypto]<3,>=1.0.0 in /Users/blink/Applications/anaconda3/lib/python3.9/site-packages (from msal<2.0.0,>=1.12.0->azure-identity>=1.6.0->azure-quantum[qiskit]==0.23.201228b1) (2.1.0)\n",
      "Requirement already satisfied: portalocker<3,>=1.0 in /Users/blink/Applications/anaconda3/lib/python3.9/site-packages (from msal-extensions~=0.3.0->azure-identity>=1.6.0->azure-quantum[qiskit]==0.23.201228b1) (2.4.0)\n",
      "Requirement already satisfied: isodate>=0.6.0 in /Users/blink/Applications/anaconda3/lib/python3.9/site-packages (from msrest>=0.6.21->azure-quantum[qiskit]==0.23.201228b1) (0.6.1)\n",
      "Requirement already satisfied: requests-oauthlib>=0.5.0 in /Users/blink/Applications/anaconda3/lib/python3.9/site-packages (from msrest>=0.6.21->azure-quantum[qiskit]==0.23.201228b1) (1.3.1)\n",
      "Requirement already satisfied: certifi>=2017.4.17 in /Users/blink/Applications/anaconda3/lib/python3.9/site-packages (from msrest>=0.6.21->azure-quantum[qiskit]==0.23.201228b1) (2021.10.8)\n",
      "Collecting retry>=0.9.0\n",
      "  Using cached retry-0.9.2-py2.py3-none-any.whl (8.0 kB)\n",
      "Requirement already satisfied: decorator>=5.1.0 in /Users/blink/Applications/anaconda3/lib/python3.9/site-packages (from qiskit-ionq>=0.1.4->azure-quantum[qiskit]==0.23.201228b1) (5.1.1)\n",
      "Requirement already satisfied: retworkx>=0.11.0 in /Users/blink/Applications/anaconda3/lib/python3.9/site-packages (from qiskit-terra>=0.19.1->azure-quantum[qiskit]==0.23.201228b1) (0.11.0)\n",
      "Requirement already satisfied: ply>=3.10 in /Users/blink/Applications/anaconda3/lib/python3.9/site-packages (from qiskit-terra>=0.19.1->azure-quantum[qiskit]==0.23.201228b1) (3.11)\n",
      "Requirement already satisfied: scipy>=1.5 in /Users/blink/Applications/anaconda3/lib/python3.9/site-packages (from qiskit-terra>=0.19.1->azure-quantum[qiskit]==0.23.201228b1) (1.7.1)\n",
      "Requirement already satisfied: python-dateutil>=2.8.0 in /Users/blink/Applications/anaconda3/lib/python3.9/site-packages (from qiskit-terra>=0.19.1->azure-quantum[qiskit]==0.23.201228b1) (2.8.2)\n",
      "Requirement already satisfied: sympy>=1.3 in /Users/blink/Applications/anaconda3/lib/python3.9/site-packages (from qiskit-terra>=0.19.1->azure-quantum[qiskit]==0.23.201228b1) (1.10.1)\n",
      "Requirement already satisfied: python-constraint>=1.4 in /Users/blink/Applications/anaconda3/lib/python3.9/site-packages (from qiskit-terra>=0.19.1->azure-quantum[qiskit]==0.23.201228b1) (1.4.0)\n",
      "Requirement already satisfied: symengine>=0.9 in /Users/blink/Applications/anaconda3/lib/python3.9/site-packages (from qiskit-terra>=0.19.1->azure-quantum[qiskit]==0.23.201228b1) (0.9.2)\n",
      "Requirement already satisfied: tweedledum<2.0,>=1.1 in /Users/blink/Applications/anaconda3/lib/python3.9/site-packages (from qiskit-terra>=0.19.1->azure-quantum[qiskit]==0.23.201228b1) (1.1.1)\n",
      "Requirement already satisfied: psutil>=5 in /Users/blink/Applications/anaconda3/lib/python3.9/site-packages (from qiskit-terra>=0.19.1->azure-quantum[qiskit]==0.23.201228b1) (5.8.0)\n",
      "Requirement already satisfied: stevedore>=3.0.0 in /Users/blink/Applications/anaconda3/lib/python3.9/site-packages (from qiskit-terra>=0.19.1->azure-quantum[qiskit]==0.23.201228b1) (3.5.0)\n",
      "Requirement already satisfied: dill>=0.3 in /Users/blink/Applications/anaconda3/lib/python3.9/site-packages (from qiskit-terra>=0.19.1->azure-quantum[qiskit]==0.23.201228b1) (0.3.5.1)\n",
      "Requirement already satisfied: urllib3<1.27,>=1.21.1 in /Users/blink/Applications/anaconda3/lib/python3.9/site-packages (from requests>=2.18.4->azure-core>=1.19.1->azure-quantum[qiskit]==0.23.201228b1) (1.26.9)\n",
      "Requirement already satisfied: idna<4,>=2.5 in /Users/blink/Applications/anaconda3/lib/python3.9/site-packages (from requests>=2.18.4->azure-core>=1.19.1->azure-quantum[qiskit]==0.23.201228b1) (3.3)\n",
      "Requirement already satisfied: oauthlib>=3.0.0 in /Users/blink/Applications/anaconda3/lib/python3.9/site-packages (from requests-oauthlib>=0.5.0->msrest>=0.6.21->azure-quantum[qiskit]==0.23.201228b1) (3.2.0)\n",
      "Requirement already satisfied: py<2.0.0,>=1.4.26 in /Users/blink/Applications/anaconda3/lib/python3.9/site-packages (from retry>=0.9.0->qiskit-ionq>=0.1.4->azure-quantum[qiskit]==0.23.201228b1) (1.11.0)\n",
      "Requirement already satisfied: pbr!=2.1.0,>=2.0.0 in /Users/blink/Applications/anaconda3/lib/python3.9/site-packages (from stevedore>=3.0.0->qiskit-terra>=0.19.1->azure-quantum[qiskit]==0.23.201228b1) (5.9.0)\n",
      "Requirement already satisfied: mpmath>=0.19 in /Users/blink/Applications/anaconda3/lib/python3.9/site-packages (from sympy>=1.3->qiskit-terra>=0.19.1->azure-quantum[qiskit]==0.23.201228b1) (1.2.1)\n",
      "Installing collected packages: retry, qiskit-ionq, azure-quantum\n",
      "  Attempting uninstall: azure-quantum\n",
      "    Found existing installation: azure-quantum 0.24.201332\n",
      "    Uninstalling azure-quantum-0.24.201332:\n",
      "      Successfully uninstalled azure-quantum-0.24.201332\n",
      "Successfully installed azure-quantum-0.23.201228b1 qiskit-ionq-0.3.3 retry-0.9.2\n"
     ]
    }
   ],
   "source": [
    "!pip install qiskit\n",
    "!pip install qiskit_experiments\n",
    "!pip install azure-quantum[qiskit]==0.23.201228b1"
   ]
  },
  {
   "cell_type": "code",
   "execution_count": 9,
   "metadata": {
    "jupyter": {
     "outputs_hidden": false,
     "source_hidden": false
    },
    "nteract": {
     "transient": {
      "deleting": false
     }
    }
   },
   "outputs": [],
   "source": [
    "\n",
    "from azure.quantum.qiskit import AzureQuantumProvider\n",
    "provider = AzureQuantumProvider (\n",
    "    resource_id = \"/subscriptions/33e6f75e-0499-425c-8b7d-9f593dde82b6/resourceGroups/AQET/providers/Microsoft.Quantum/Workspaces/CHEM560\",\n",
    "    location = \"westus\")\n",
    "\n",
    "\n",
    "from IPython.display import Image\n",
    "from IPython.core.display import HTML \n",
    "\n",
    "import qiskit\n",
    "\n",
    "from qiskit.quantum_info import DensityMatrix\n",
    "import qiskit.quantum_info as qi\n",
    "\n",
    "\n",
    "from qiskit import QuantumCircuit, assemble, Aer\n",
    "from math import pi, sqrt\n",
    "from qiskit.visualization import plot_bloch_multivector, plot_histogram, plot_state_city\n",
    "\n",
    "import numpy as np\n",
    "\n"
   ]
  },
  {
   "cell_type": "code",
   "execution_count": 10,
   "metadata": {
    "jupyter": {
     "outputs_hidden": false,
     "source_hidden": false
    },
    "nteract": {
     "transient": {
      "deleting": false
     }
    }
   },
   "outputs": [
    {
     "name": "stdout",
     "output_type": "stream",
     "text": [
      "This workspace's targets:\n",
      "- ionq.qpu\n",
      "- ionq.simulator\n",
      "- quantinuum.hqs-lt-s1\n",
      "- quantinuum.hqs-lt-s1-apival\n",
      "- quantinuum.hqs-lt-s2\n",
      "- quantinuum.hqs-lt-s2-apival\n",
      "- quantinuum.hqs-lt-s1-sim\n",
      "- quantinuum.hqs-lt-s2-sim\n"
     ]
    }
   ],
   "source": [
    "from qiskit import QuantumCircuit\n",
    "from qiskit.visualization import plot_histogram\n",
    "from qiskit.tools.monitor import job_monitor\n",
    "\n",
    "print(\"This workspace's targets:\")\n",
    "for backend in provider.backends():\n",
    "    print(\"- \" + backend.name())"
   ]
  },
  {
   "cell_type": "code",
   "execution_count": 11,
   "metadata": {
    "jupyter": {
     "outputs_hidden": false,
     "source_hidden": false
    },
    "nteract": {
     "transient": {
      "deleting": false
     }
    }
   },
   "outputs": [],
   "source": [
    "ionq_simulator_backend = provider.get_backend(\"ionq.simulator\")\n",
    "ionq_qpu_backend = provider.get_backend(\"ionq.qpu\")\n",
    "aer_simulator_backend = Aer.get_backend('aer_simulator')"
   ]
  },
  {
   "cell_type": "markdown",
   "metadata": {
    "nteract": {
     "transient": {
      "deleting": false
     }
    }
   },
   "source": [
    "# CHEM 560 Final Project\n",
    "\n",
    "## Contributors: Ivan Chernyshev, Ben Link, Aodong Liu"
   ]
  },
  {
   "cell_type": "markdown",
   "metadata": {
    "nteract": {
     "transient": {
      "deleting": false
     }
    }
   },
   "source": [
    "<div class=\"alert-info\">\n",
    "Abstract:\n",
    "    Our goal with the final project is to apply two algorithms in tandem in order to simulate time-dependent Hamiltonians with quantum computation. Previously, we had determined the ground state of minimal hydrogen molecule up to the configuration interaction (Full-CI) picture directly utilizing the unitary coupled-cluster (UCC) ansatz. This, in principle, can also be done by utilizing a different method. Rather than directly computing the coefficients via a VQE algorithm, simulation of quantum dynamics can be performed by explicitly propagating the time-dependent Hamiltonian. In this work, we plan on expressing the ground state Hamiltonian in the first-order Trotterized time-evolution operator, then by performing iterative phase estimation, we can determine the ground state molecular energy of hydrogen. This work is largely inspired by this paper (1), which accumulates the phase from the PEA on an ancilla qubit, which is measured for each shot of the experiment. While the paper explicitly reports the entire potential energy surface along with the dissociation energy, within our time restraint we will focus on characterizing the minimum of the potential energy surface, giving an accurate description of the ground-state hydrogen molecule. Since PEA tends to be less resilient to error than VQE, we plan to do error characterization and correction.\n",
    "</div>\n"
   ]
  },
  {
   "cell_type": "markdown",
   "metadata": {},
   "source": [
    "### Theory and Backgound "
   ]
  },
  {
   "cell_type": "code",
   "execution_count": null,
   "metadata": {},
   "outputs": [],
   "source": []
  },
  {
   "cell_type": "code",
   "execution_count": null,
   "metadata": {},
   "outputs": [],
   "source": []
  },
  {
   "cell_type": "code",
   "execution_count": null,
   "metadata": {},
   "outputs": [],
   "source": []
  },
  {
   "cell_type": "code",
   "execution_count": null,
   "metadata": {},
   "outputs": [],
   "source": []
  },
  {
   "cell_type": "code",
   "execution_count": null,
   "metadata": {},
   "outputs": [],
   "source": []
  },
  {
   "cell_type": "code",
   "execution_count": null,
   "metadata": {},
   "outputs": [],
   "source": []
  },
  {
   "cell_type": "code",
   "execution_count": null,
   "metadata": {},
   "outputs": [],
   "source": []
  },
  {
   "cell_type": "code",
   "execution_count": null,
   "metadata": {},
   "outputs": [],
   "source": []
  },
  {
   "cell_type": "markdown",
   "metadata": {
    "nteract": {
     "transient": {
      "deleting": false
     }
    }
   },
   "source": [
    "**1. First, define helper functions**"
   ]
  },
  {
   "cell_type": "code",
   "execution_count": 12,
   "metadata": {
    "jupyter": {
     "outputs_hidden": false,
     "source_hidden": false
    },
    "nteract": {
     "transient": {
      "deleting": false
     }
    }
   },
   "outputs": [],
   "source": [
    "def get_gi_energy(result,g):\n",
    "    count1 = 0.0\n",
    "    count0 = 0.0\n",
    "    if ('0' in result.get_counts()):\n",
    "        count0 = result.get_counts()['0']\n",
    "\n",
    "    if ('1' in result.get_counts()):\n",
    "        count1 = result.get_counts()['1']\n",
    "\n",
    "    prob1 = np.sqrt(count1/(count1+count0))\n",
    "    prob0 = np.sqrt(count0/(count1+count0))\n",
    "    expectation_val = prob0**2 - prob1**2\n",
    "    energy = g*(expectation_val)\n",
    "\n",
    "    return energy"
   ]
  },
  {
   "cell_type": "code",
   "execution_count": 13,
   "metadata": {
    "jupyter": {
     "outputs_hidden": false,
     "source_hidden": false
    },
    "nteract": {
     "transient": {
      "deleting": false
     }
    }
   },
   "outputs": [],
   "source": [
    "def get_total_energy(job_list):\n",
    "    gi_energy = []\n",
    "    g0 = 2.1868 \n",
    "    cum_energy = 0.0\n",
    "    g_para = [0.5449, -1.2870, +0.6719, +0.0798, +0.0798]\n",
    "    print('g%d Energy: %15.7f Eh' % (0,g0))\n",
    "    for i in range (5):\n",
    "        Egi =  get_gi_energy(job_list[i].result(), g_para[i])\n",
    "        gi_energy.append(Egi)\n",
    "        cum_energy += Egi\n",
    "        print('g%d Energy: %15.7f Eh' % (i+1,Egi))\n",
    "    \n",
    "    total_energy = cum_energy + g0\n",
    "\n",
    "    print('Total Energy: %15.7f Eh' % total_energy)\n",
    "    print('\\n')\n",
    "    return total_energy"
   ]
  },
  {
   "cell_type": "code",
   "execution_count": 14,
   "metadata": {
    "jupyter": {
     "outputs_hidden": false,
     "source_hidden": false
    },
    "nteract": {
     "transient": {
      "deleting": false
     }
    }
   },
   "outputs": [],
   "source": [
    "def contruct_gi_circuit(theta, g_number):\n",
    "    \n",
    "\n",
    "    # Create initial state |01>\n",
    "    circuit_gi = QuantumCircuit(2,1)\n",
    "    circuit_gi.name = 'measurement for g' + str(g_number)\n",
    "    circuit_gi.x(1)\n",
    "\n",
    "    # Apply the Ansatz\n",
    "    circuit_gi.ry(np.pi/2,0)\n",
    "    circuit_gi.rx(3*np.pi/2,1)\n",
    "    circuit_gi.cx(0,1)\n",
    "    circuit_gi.rz(theta,1)\n",
    "    circuit_gi.cx(0,1)\n",
    "    circuit_gi.ry(3*np.pi/2,0)\n",
    "    circuit_gi.rx(np.pi/2,1)\n",
    "\n",
    "    # Obtain measurement\n",
    "    if (g_number == 1 ):\n",
    "        # g1 <I1 Sz0>\n",
    "        circuit_gi.swap(0,1)   \n",
    "    elif (g_number == 3):\n",
    "        # g3 <Sz1 Sz0>\n",
    "        circuit_gi.cx(0,1)\n",
    "    elif (g_number == 4):\n",
    "        # g4 <Sx1 Sx0>\n",
    "        circuit_gi.cx(0,1)\n",
    "        circuit_gi.h(0)\n",
    "        circuit_gi.h(1)\n",
    "    elif (g_number == 5):\n",
    "        # g5 <Sy1 Sy0>\n",
    "        circuit_gi.cx(0,1)\n",
    "        circuit_gi.h(0)\n",
    "        circuit_gi.sdg(0)\n",
    "        circuit_gi.h(1)\n",
    "        circuit_gi.sdg(1)\n",
    "\n",
    "    # g2 <SZ1 I0>, so if g_number = 2, not need to do anything  \n",
    "    \n",
    "    circuit_gi.measure([1],[0])\n",
    "    # circuit_gx.draw()\n",
    "    return circuit_gi\n"
   ]
  },
  {
   "cell_type": "code",
   "execution_count": 15,
   "metadata": {
    "jupyter": {
     "outputs_hidden": false,
     "source_hidden": false
    },
    "nteract": {
     "transient": {
      "deleting": false
     }
    }
   },
   "outputs": [],
   "source": [
    "def construct_circuit_list(theta):\n",
    "    circuit_list = []\n",
    "    for gi in range(1,6):\n",
    "        circuit_list.append( contruct_gi_circuit(theta,gi) )\n",
    "    return circuit_list"
   ]
  },
  {
   "cell_type": "code",
   "execution_count": 16,
   "metadata": {
    "jupyter": {
     "outputs_hidden": false,
     "source_hidden": false
    },
    "nteract": {
     "transient": {
      "deleting": false
     }
    }
   },
   "outputs": [],
   "source": [
    "def procedural(theta,sim, nshots):\n",
    "    global total_call\n",
    "    total_call +=1\n",
    "\n",
    "    t = theta[0]\n",
    "\n",
    "    circuit_list = []\n",
    "\n",
    "    circuit_list = construct_circuit_list(t)\n",
    "    for i in range(len(circuit_list)):\n",
    "        circuit_list[i].draw()\n",
    "    job_g1 = sim.run(circuit_list[0], shots = nshots)\n",
    "    job_g2 = sim.run(circuit_list[1], shots = nshots)\n",
    "    job_g3 = sim.run(circuit_list[2], shots = nshots)\n",
    "    job_g4 = sim.run(circuit_list[3], shots = nshots)\n",
    "    job_g5 = sim.run(circuit_list[4], shots = nshots)    \n",
    "    \n",
    "\n",
    "    job_list = [job_g1, job_g2, job_g3, job_g4, job_g5]\n",
    "\n",
    "    return get_total_energy(job_list)"
   ]
  },
  {
   "cell_type": "code",
   "execution_count": 17,
   "metadata": {
    "jupyter": {
     "outputs_hidden": false,
     "source_hidden": false
    },
    "nteract": {
     "transient": {
      "deleting": false
     }
    }
   },
   "outputs": [],
   "source": [
    "from scipy.linalg import expm\n",
    "from scipy.optimize import minimize"
   ]
  },
  {
   "cell_type": "code",
   "execution_count": 18,
   "metadata": {
    "jupyter": {
     "outputs_hidden": false,
     "source_hidden": false
    },
    "nteract": {
     "transient": {
      "deleting": false
     }
    }
   },
   "outputs": [
    {
     "name": "stderr",
     "output_type": "stream",
     "text": [
      "/Users/blink/Applications/anaconda3/envs/qiskit_environment/lib/python3.10/site-packages/scipy/optimize/_minimize.py:564: RuntimeWarning: Method COBYLA cannot handle bounds.\n",
      "  warn('Method %s cannot handle bounds.' % method,\n"
     ]
    },
    {
     "name": "stdout",
     "output_type": "stream",
     "text": [
      "g0 Energy:       2.1868000 Eh\n",
      "g1 Energy:      -0.5390696 Eh\n",
      "g2 Energy:      -1.2727143 Eh\n",
      "g3 Energy:      -0.6719000 Eh\n",
      "g4 Energy:      -0.0001197 Eh\n",
      "g5 Energy:      -0.0007820 Eh\n",
      "Total Energy:      -0.2977856 Eh\n",
      "\n",
      "\n",
      "g0 Energy:       2.1868000 Eh\n",
      "g1 Energy:      -0.3561466 Eh\n",
      "g2 Energy:      -0.8310159 Eh\n",
      "g3 Energy:      -0.6719000 Eh\n",
      "g4 Energy:      -0.0001995 Eh\n",
      "g5 Energy:       0.0006304 Eh\n",
      "Total Energy:       0.3281684 Eh\n",
      "\n",
      "\n",
      "g0 Energy:       2.1868000 Eh\n",
      "g1 Energy:      -0.2279862 Eh\n",
      "g2 Energy:      -0.5334615 Eh\n",
      "g3 Energy:      -0.6719000 Eh\n",
      "g4 Energy:       0.0001596 Eh\n",
      "g5 Energy:       0.0005027 Eh\n",
      "Total Energy:       0.7541147 Eh\n",
      "\n",
      "\n",
      "g0 Energy:       2.1868000 Eh\n",
      "g1 Energy:      -0.4357565 Eh\n",
      "g2 Energy:      -1.0418265 Eh\n",
      "g3 Energy:      -0.6719000 Eh\n",
      "g4 Energy:      -0.0020748 Eh\n",
      "g5 Energy:       0.0002075 Eh\n",
      "Total Energy:       0.0354496 Eh\n",
      "\n",
      "\n",
      "g0 Energy:       2.1868000 Eh\n",
      "g1 Energy:      -0.5420120 Eh\n",
      "g2 Energy:      -1.2778623 Eh\n",
      "g3 Energy:      -0.6719000 Eh\n",
      "g4 Energy:      -0.0003591 Eh\n",
      "g5 Energy:      -0.0003990 Eh\n",
      "Total Energy:      -0.3057324 Eh\n",
      "\n",
      "\n",
      "g0 Energy:       2.1868000 Eh\n",
      "g1 Energy:      -0.5292614 Eh\n",
      "g2 Energy:      -1.2498057 Eh\n",
      "g3 Energy:      -0.6719000 Eh\n",
      "g4 Energy:      -0.0004948 Eh\n",
      "g5 Energy:       0.0008618 Eh\n",
      "Total Energy:      -0.2638000 Eh\n",
      "\n",
      "\n",
      "g0 Energy:       2.1868000 Eh\n",
      "g1 Energy:      -0.5440827 Eh\n",
      "g2 Energy:      -1.2854556 Eh\n",
      "g3 Energy:      -0.6719000 Eh\n",
      "g4 Energy:       0.0007022 Eh\n",
      "g5 Energy:       0.0000718 Eh\n",
      "Total Energy:      -0.3138642 Eh\n",
      "\n",
      "\n",
      "g0 Energy:       2.1868000 Eh\n",
      "g1 Energy:      -0.5448455 Eh\n",
      "g2 Energy:      -1.2868713 Eh\n",
      "g3 Energy:      -0.6719000 Eh\n",
      "g4 Energy:       0.0000160 Eh\n",
      "g5 Energy:       0.0000399 Eh\n",
      "Total Energy:      -0.3167610 Eh\n",
      "\n",
      "\n",
      "g0 Energy:       2.1868000 Eh\n",
      "g1 Energy:      -0.5432653 Eh\n",
      "g2 Energy:      -1.2828816 Eh\n",
      "g3 Energy:      -0.6719000 Eh\n",
      "g4 Energy:       0.0002793 Eh\n",
      "g5 Energy:       0.0009416 Eh\n",
      "Total Energy:      -0.3100260 Eh\n",
      "\n",
      "\n",
      "g0 Energy:       2.1868000 Eh\n",
      "g1 Energy:      -0.5441916 Eh\n",
      "g2 Energy:      -1.2854556 Eh\n",
      "g3 Energy:      -0.6719000 Eh\n",
      "g4 Energy:      -0.0005107 Eh\n",
      "g5 Energy:      -0.0000718 Eh\n",
      "Total Energy:      -0.3153298 Eh\n",
      "\n",
      "\n",
      "g0 Energy:       2.1868000 Eh\n",
      "g1 Energy:      -0.5449000 Eh\n",
      "g2 Energy:      -1.2870000 Eh\n",
      "g3 Energy:      -0.6719000 Eh\n",
      "g4 Energy:       0.0000798 Eh\n",
      "g5 Energy:       0.0000798 Eh\n",
      "Total Energy:      -0.3168404 Eh\n",
      "\n",
      "\n",
      "g0 Energy:       2.1868000 Eh\n",
      "g1 Energy:      -0.5449000 Eh\n",
      "g2 Energy:      -1.2867426 Eh\n",
      "g3 Energy:      -0.6719000 Eh\n",
      "g4 Energy:      -0.0009656 Eh\n",
      "g5 Energy:      -0.0010214 Eh\n",
      "Total Energy:      -0.3187296 Eh\n",
      "\n",
      "\n",
      "g0 Energy:       2.1868000 Eh\n",
      "g1 Energy:      -0.5446820 Eh\n",
      "g2 Energy:      -1.2864852 Eh\n",
      "g3 Energy:      -0.6719000 Eh\n",
      "g4 Energy:      -0.0005187 Eh\n",
      "g5 Energy:      -0.0000638 Eh\n",
      "Total Energy:      -0.3168498 Eh\n",
      "\n",
      "\n",
      "g0 Energy:       2.1868000 Eh\n",
      "g1 Energy:      -0.5447910 Eh\n",
      "g2 Energy:      -1.2870000 Eh\n",
      "g3 Energy:      -0.6719000 Eh\n",
      "g4 Energy:       0.0006703 Eh\n",
      "g5 Energy:       0.0000718 Eh\n",
      "Total Energy:      -0.3161489 Eh\n",
      "\n",
      "\n",
      "g0 Energy:       2.1868000 Eh\n",
      "g1 Energy:      -0.5449000 Eh\n",
      "g2 Energy:      -1.2866139 Eh\n",
      "g3 Energy:      -0.6719000 Eh\n",
      "g4 Energy:      -0.0012289 Eh\n",
      "g5 Energy:       0.0003352 Eh\n",
      "Total Energy:      -0.3175077 Eh\n",
      "\n",
      "\n",
      "g0 Energy:       2.1868000 Eh\n",
      "g1 Energy:      -0.5448455 Eh\n",
      "g2 Energy:      -1.2868713 Eh\n",
      "g3 Energy:      -0.6719000 Eh\n",
      "g4 Energy:      -0.0001756 Eh\n",
      "g5 Energy:       0.0007342 Eh\n",
      "Total Energy:      -0.3162582 Eh\n",
      "\n",
      "\n",
      "g0 Energy:       2.1868000 Eh\n",
      "g1 Energy:      -0.5449000 Eh\n",
      "g2 Energy:      -1.2870000 Eh\n",
      "g3 Energy:      -0.6719000 Eh\n",
      "g4 Energy:       0.0001277 Eh\n",
      "g5 Energy:      -0.0010773 Eh\n",
      "Total Energy:      -0.3179496 Eh\n",
      "\n",
      "\n",
      "g0 Energy:       2.1868000 Eh\n",
      "g1 Energy:      -0.5449000 Eh\n",
      "g2 Energy:      -1.2868713 Eh\n",
      "g3 Energy:      -0.6719000 Eh\n",
      "g4 Energy:       0.0001357 Eh\n",
      "g5 Energy:      -0.0002633 Eh\n",
      "Total Energy:      -0.3169990 Eh\n",
      "\n",
      "\n",
      "g0 Energy:       2.1868000 Eh\n",
      "g1 Energy:      -0.5449000 Eh\n",
      "g2 Energy:      -1.2867426 Eh\n",
      "g3 Energy:      -0.6719000 Eh\n",
      "g4 Energy:       0.0002873 Eh\n",
      "g5 Energy:       0.0001037 Eh\n",
      "Total Energy:      -0.3163516 Eh\n",
      "\n",
      "\n",
      "g0 Energy:       2.1868000 Eh\n",
      "g1 Energy:      -0.5447365 Eh\n",
      "g2 Energy:      -1.2870000 Eh\n",
      "g3 Energy:      -0.6719000 Eh\n",
      "g4 Energy:       0.0001117 Eh\n",
      "g5 Energy:      -0.0003751 Eh\n",
      "Total Energy:      -0.3170999 Eh\n",
      "\n",
      "\n",
      "g0 Energy:       2.1868000 Eh\n",
      "g1 Energy:      -0.5449000 Eh\n",
      "g2 Energy:      -1.2864852 Eh\n",
      "g3 Energy:      -0.6719000 Eh\n",
      "g4 Energy:      -0.0005905 Eh\n",
      "g5 Energy:       0.0007501 Eh\n",
      "Total Energy:      -0.3163256 Eh\n",
      "\n",
      "\n",
      "Aer Simulator VQE: \n",
      "   Normal return from subroutine COBYLA\n",
      "\n",
      "\n",
      "  [+] theta:  +3.15635 deg\n",
      "  [+] energy: -0.3163256 Eh\n",
      "   NFVALS =   21   F =-3.163256E-01    MAXCV = 0.000000E+00\n",
      "   X = 3.156350E+00\n"
     ]
    }
   ],
   "source": [
    "#theta  = [+3.0546895]\n",
    "theta  = [+3.0]\n",
    "global total_call\n",
    "total_call = 0\n",
    "\n",
    "result = minimize(procedural,theta,args=(aer_simulator_backend, 20000),method='COBYLA',bounds=[(0,2*np.pi)],options={'disp':True,'maxiter':50})\n",
    "\n",
    "theta  = result.x[0]\n",
    "val    = result.fun\n",
    "#it   = result.nit\n",
    "print(\"Aer Simulator VQE: \")\n",
    "print(\"  [+] theta:  {:+2.8} deg\".format(theta))\n",
    "print(\"  [+] energy: {:+2.8} Eh\".format(val))\n",
    "#print(\"  [+] iterations: {:+2} \".format(it))"
   ]
  },
  {
   "cell_type": "code",
   "execution_count": 11,
   "metadata": {
    "jupyter": {
     "outputs_hidden": false,
     "source_hidden": false
    },
    "nteract": {
     "transient": {
      "deleting": false
     }
    }
   },
   "outputs": [
    {
     "data": {
      "text/plain": [
       "True"
      ]
     },
     "execution_count": 11,
     "metadata": {},
     "output_type": "execute_result"
    }
   ],
   "source": [
    "result.success"
   ]
  },
  {
   "cell_type": "code",
   "execution_count": 12,
   "metadata": {
    "jupyter": {
     "outputs_hidden": false,
     "source_hidden": false
    },
    "nteract": {
     "transient": {
      "deleting": false
     }
    }
   },
   "outputs": [
    {
     "name": "stdout",
     "output_type": "stream",
     "text": [
      "18\n"
     ]
    }
   ],
   "source": [
    "print(total_call)"
   ]
  },
  {
   "cell_type": "code",
   "execution_count": 13,
   "metadata": {
    "jupyter": {
     "outputs_hidden": false,
     "source_hidden": false
    },
    "nteract": {
     "transient": {
      "deleting": false
     }
    }
   },
   "outputs": [
    {
     "name": "stdout",
     "output_type": "stream",
     "text": [
      "g0 Energy:       2.1868000 Eh\n",
      "...................g1 Energy:      -0.4707936 Eh\n",
      "g2 Energy:      -1.2046320 Eh\n",
      "g3 Energy:      -0.6235232 Eh\n",
      ".....g4 Energy:      -0.0019152 Eh\n",
      ".......g5 Energy:       0.0003192 Eh\n",
      "Total Energy:      -0.1137448 Eh\n",
      "\n",
      "\n",
      "g0 Energy:       2.1868000 Eh\n",
      "...........................g1 Energy:      -0.4097648 Eh\n",
      "g2 Energy:      -0.9678240 Eh\n",
      "g3 Energy:      -0.6288984 Eh\n",
      "g4 Energy:      -0.0041496 Eh\n",
      "g5 Energy:      -0.0003192 Eh\n",
      "Total Energy:       0.1758440 Eh\n",
      "\n",
      "\n",
      "g0 Energy:       2.1868000 Eh\n",
      "...........................................g1 Energy:      -0.1089800 Eh\n",
      "g2 Energy:      -0.4427280 Eh\n",
      "g3 Energy:      -0.5832092 Eh\n",
      "g4 Energy:       0.0003192 Eh\n",
      "g5 Energy:      -0.0057456 Eh\n",
      "Total Energy:       1.0464564 Eh\n",
      "\n",
      "\n",
      "g0 Energy:       2.1868000 Eh\n",
      ".................g1 Energy:      -0.3574544 Eh\n",
      "g2 Energy:      -0.9472320 Eh\n",
      "g3 Energy:      -0.5832092 Eh\n",
      "..g4 Energy:       0.0022344 Eh\n",
      ".....g5 Energy:       0.0047880 Eh\n",
      "Total Energy:       0.3059268 Eh\n",
      "\n",
      "\n",
      "g0 Energy:       2.1868000 Eh\n",
      "................................................................g1 Energy:      -0.4860508 Eh\n",
      "g2 Energy:      -1.1943360 Eh\n",
      ".......g3 Energy:      -0.6127728 Eh\n",
      "g4 Energy:       0.0019152 Eh\n",
      ".......g5 Energy:       0.0028728 Eh\n",
      "Total Energy:      -0.1015716 Eh\n",
      "\n",
      "\n",
      "g0 Energy:       2.1868000 Eh\n",
      ".................g1 Energy:      -0.4097648 Eh\n",
      "....g2 Energy:      -1.0707840 Eh\n",
      ".......g3 Energy:      -0.6073976 Eh\n",
      ".....g4 Energy:       0.0003192 Eh\n",
      ".......g5 Energy:      -0.0019152 Eh\n",
      "Total Energy:       0.0972576 Eh\n",
      "\n",
      "\n",
      "g0 Energy:       2.1868000 Eh\n",
      "...................................................................................g1 Energy:      -0.4489976 Eh\n",
      ".g2 Energy:      -1.1943360 Eh\n",
      "........g3 Energy:      -0.5858968 Eh\n",
      ".......g4 Energy:       0.0015960 Eh\n",
      "g5 Energy:      -0.0019152 Eh\n",
      "Total Energy:      -0.0427496 Eh\n",
      "\n",
      "\n",
      "g0 Energy:       2.1868000 Eh\n",
      ".................................................................................g1 Energy:      -0.4860508 Eh\n",
      "g2 Energy:      -1.1634480 Eh\n",
      "g3 Energy:      -0.5697712 Eh\n",
      ".....g4 Energy:      -0.0044688 Eh\n",
      "......g5 Energy:      -0.0022344 Eh\n",
      "Total Energy:      -0.0391732 Eh\n",
      "\n",
      "\n",
      "g0 Energy:       2.1868000 Eh\n",
      "........................................g1 Energy:      -0.4860508 Eh\n",
      "g2 Energy:      -1.1685960 Eh\n",
      "g3 Energy:      -0.6181480 Eh\n",
      "g4 Energy:      -0.0022344 Eh\n",
      ".....g5 Energy:       0.0000000 Eh\n",
      "Total Energy:      -0.0882292 Eh\n",
      "\n",
      "\n",
      "g0 Energy:       2.1868000 Eh\n",
      ".....................g1 Energy:      -0.4468180 Eh\n",
      "g2 Energy:      -1.1994840 Eh\n",
      "g3 Energy:      -0.5428952 Eh\n",
      "g4 Energy:      -0.0054264 Eh\n",
      "g5 Energy:      -0.0047880 Eh\n",
      "Total Energy:      -0.0126116 Eh\n",
      "\n",
      "\n",
      "g0 Energy:       2.1868000 Eh\n",
      "...........................................g1 Energy:      -0.4664344 Eh\n",
      "g2 Energy:      -1.1891880 Eh\n",
      "g3 Energy:      -0.5643960 Eh\n",
      "g4 Energy:       0.0009576 Eh\n",
      ".......................g5 Energy:      -0.0070224 Eh\n",
      "Total Energy:      -0.0392832 Eh\n",
      "\n",
      "\n",
      "g0 Energy:       2.1868000 Eh\n",
      "...............................g1 Energy:      -0.4359200 Eh\n",
      "g2 Energy:      -1.1171160 Eh\n",
      "g3 Energy:      -0.6073976 Eh\n",
      "g4 Energy:      -0.0006384 Eh\n",
      "g5 Energy:      -0.0009576 Eh\n",
      "Total Energy:       0.0247704 Eh\n",
      "\n",
      "\n",
      "g0 Energy:       2.1868000 Eh\n",
      "..........................g1 Energy:      -0.4511772 Eh\n",
      ".....g2 Energy:      -1.1840400 Eh\n",
      ".......g3 Energy:      -0.5778340 Eh\n",
      "g4 Energy:      -0.0054264 Eh\n",
      "......g5 Energy:       0.0003192 Eh\n",
      "Total Energy:      -0.0313584 Eh\n",
      "\n",
      "\n",
      "g0 Energy:       2.1868000 Eh\n",
      "..............................................................g1 Energy:      -0.3923280 Eh\n",
      "g2 Energy:      -1.1788920 Eh\n",
      "......g3 Energy:      -0.5885844 Eh\n",
      "....g4 Energy:      -0.0031920 Eh\n",
      "........g5 Energy:       0.0047880 Eh\n",
      "Total Energy:       0.0285916 Eh\n",
      "\n",
      "\n",
      "g0 Energy:       2.1868000 Eh\n",
      "..................................................................................................................."
     ]
    }
   ],
   "source": [
    "#theta  = [+3.0546895]\n",
    "theta  = [+3.0]\n",
    "global total_call\n",
    "total_call = 0\n",
    "\n",
    "result = minimize(procedural,theta,args=(ionq_qpu_backend, 500),method='COBYLA',bounds=[(0,2*np.pi)],options={'disp':True,'maxiter':50})\n",
    "\n",
    "theta  = result.x[0]\n",
    "val    = result.fun\n",
    "#it   = result.nit\n",
    "print(\"Aer Simulator VQE: \")\n",
    "print(\"  [+] theta:  {:+2.8} deg\".format(theta))\n",
    "print(\"  [+] energy: {:+2.8} Eh\".format(val))\n",
    "#print(\"  [+] iterations: {:+2} \".format(it))"
   ]
  },
  {
   "cell_type": "markdown",
   "metadata": {},
   "source": [
    "Starting PEA with Trotterized Hamiltonian."
   ]
  },
  {
   "cell_type": "code",
   "execution_count": 67,
   "metadata": {},
   "outputs": [],
   "source": [
    "### Functions to get our circuit, phi, and energy\n",
    "def construct_circuit(k,prev_result,t0):\n",
    "    ### Start by constructing the base circuit. This entails having a set of \n",
    "    ### three qubits and measurement of just the last qubit. \n",
    "    ### For our purposes, qubit 0 is our ancilla qubit, while qubits\n",
    "    ### 1 and 2 will hold the state information for our hydrogen molecule\n",
    "\n",
    "    # Determine phi based on k\n",
    "    phi = get_phi(prev_result)\n",
    "    \n",
    "    \n",
    "    PEA_Circuit=QuantumCircuit(3,1)\n",
    "\n",
    "    PEA_Circuit.ry(-np.pi/2,0)\n",
    "\n",
    "    PEA_Circuit.rz(phi,0)\n",
    "\n",
    "    ### Now we apply our unitary Trotter, which is a set of applied gates to\n",
    "    # simulate the Hamiltonian. The four hamiltonians\n",
    "    # are applied based off Appendix C in the paper:\n",
    "    # https://journals.aps.org/prx/pdf/10.1103/PhysRevX.6.031007.\n",
    "    #Z0 rotation\n",
    "    PEA_Circuit.rz(-t0/2,0)\n",
    "    PEA_Circuit.crz(2**k*t0,0,1)\n",
    "    PEA_Circuit.barrier()\n",
    "    #Z1 rotation\n",
    "    PEA_Circuit.rz(-t0/2,0)\n",
    "    PEA_Circuit.crz(2**k*t0,0,2)\n",
    "    PEA_Circuit.barrier()\n",
    "\n",
    "    # X0X1\n",
    "    PEA_Circuit.rz(-2**k*t0/2,0)\n",
    "    PEA_Circuit.ry(np.pi/2,1)\n",
    "    PEA_Circuit.ry(np.pi/2,2)\n",
    "    PEA_Circuit.cx(2,1)\n",
    "    PEA_Circuit.crz(2**k*t0,0,1)\n",
    "    PEA_Circuit.cx(2,1)\n",
    "    PEA_Circuit.ry(-np.pi/2,1)\n",
    "    PEA_Circuit.ry(-np.pi/2,2)\n",
    "    PEA_Circuit.barrier()\n",
    "    \n",
    "    # Y0Y1\n",
    "    PEA_Circuit.rz(-2**k*t0/2,0)\n",
    "    PEA_Circuit.rx(np.pi/2,1)\n",
    "    PEA_Circuit.rx(np.pi/2,2)\n",
    "    PEA_Circuit.cx(2,1)\n",
    "    PEA_Circuit.crz(2**k*t0,0,1)\n",
    "    PEA_Circuit.cx(2,1)\n",
    "    PEA_Circuit.rx(-np.pi/2,1)\n",
    "    PEA_Circuit.rx(-np.pi/2,2)\n",
    "    PEA_Circuit.barrier()\n",
    "    \n",
    "    # Final rotation on ancilla\n",
    "    PEA_Circuit.ry(-np.pi/2,0)\n",
    "    \n",
    "    PEA_Circuit.measure(0,0)\n",
    "    \n",
    "    return PEA_Circuit\n",
    "\n",
    "### function to determine phi based on previous measurements\n",
    "def get_phi(prev_results):\n",
    "    sum = 0\n",
    "    k = len(prev_results)\n",
    "    for l in range(k):\n",
    "        sum += prev_results[l]/(2**(l-k+1))\n",
    "    print(sum)\n",
    "    return sum*np.pi\n",
    "\n",
    "\n",
    "### Function to return the final energy based on all measurements\n",
    "def get_energy(prev_results,t0):\n",
    "    b=len(prev_results)\n",
    "    sum = 0\n",
    "    for k in range(b):\n",
    "        sum += prev_results[i]/(2**(k+1))\n",
    "    return -np.pi*sum/t0\n",
    "\n",
    "### Function to return the majority rules candidate\n",
    "def maj_rule(job_result):\n",
    "    count0 = 0\n",
    "    count1 = 0\n",
    "    if ('0' in job_result.get_counts()):\n",
    "        count0 = job_result.get_counts()['0']\n",
    "    if ('1' in job_result.get_counts()):\n",
    "        count1 = job_result.get_counts()['1']\n",
    "    if (count0 > count1):\n",
    "        return 0\n",
    "    elif (count1 > count0):\n",
    "        return 1\n",
    "    else:\n",
    "        return 0"
   ]
  },
  {
   "cell_type": "code",
   "execution_count": 64,
   "metadata": {},
   "outputs": [
    {
     "name": "stdout",
     "output_type": "stream",
     "text": [
      "18.0\n"
     ]
    }
   ],
   "source": [
    "def procedural(t0,sim,number_cycles,number_shots):\n",
    "    ### storage values\n",
    "    prev_res = []\n",
    "    ### total number of cycles we would like to run\n",
    "    for i in range(number_cycles):\n",
    "        qc = construct_circuit(i+1,prev_res,t0)\n",
    "        job = sim.run(qc,number_shots)\n",
    "        ind_result = job.get_result()\n",
    "        prev_res.append(maj_rule(ind_result))\n",
    "    \n",
    "    ### Once out of loop, can compute energy\n",
    "    return get_energy(prev_res,t0)\n"
   ]
  },
  {
   "cell_type": "code",
   "execution_count": 56,
   "metadata": {},
   "outputs": [
    {
     "data": {
      "text/html": [
       "<pre style=\"word-wrap: normal;white-space: pre;background: #fff0;line-height: 1.1;font-family: &quot;Courier New&quot;,Courier,monospace\">     ┌──────────┐┌───────┐┌───────────┐          ░ ┌───────────┐          ░ »\n",
       "q_0: ┤ Ry(-π/2) ├┤ Rz(0) ├┤ Rz(-0.25) ├────■─────░─┤ Rz(-0.25) ├────■─────░─»\n",
       "     └──────────┘└───────┘└───────────┘┌───┴───┐ ░ └───────────┘    │     ░ »\n",
       "q_1: ──────────────────────────────────┤ Rz(1) ├─░──────────────────┼─────░─»\n",
       "                                       └───────┘ ░              ┌───┴───┐ ░ »\n",
       "q_2: ────────────────────────────────────────────░──────────────┤ Rz(1) ├─░─»\n",
       "                                                 ░              └───────┘ ░ »\n",
       "c: 1/═══════════════════════════════════════════════════════════════════════»\n",
       "                                                                            »\n",
       "«     ┌──────────┐                                ░ ┌──────────┐              »\n",
       "«q_0: ┤ Rz(-0.5) ├─────────■──────────────────────░─┤ Rz(-0.5) ├─────────■────»\n",
       "«     ├─────────┬┘┌───┐┌───┴───┐┌───┐┌──────────┐ ░ ├─────────┬┘┌───┐┌───┴───┐»\n",
       "«q_1: ┤ Ry(π/2) ├─┤ X ├┤ Rz(1) ├┤ X ├┤ Ry(-π/2) ├─░─┤ Rx(π/2) ├─┤ X ├┤ Rz(1) ├»\n",
       "«     ├─────────┤ └─┬─┘└───────┘└─┬─┘├──────────┤ ░ ├─────────┤ └─┬─┘└───────┘»\n",
       "«q_2: ┤ Ry(π/2) ├───■─────────────■──┤ Ry(-π/2) ├─░─┤ Rx(π/2) ├───■───────────»\n",
       "«     └─────────┘                    └──────────┘ ░ └─────────┘               »\n",
       "«c: 1/════════════════════════════════════════════════════════════════════════»\n",
       "«                                                                             »\n",
       "«                       ░ ┌──────────┐┌─┐\n",
       "«q_0: ──────────────────░─┤ Ry(-π/2) ├┤M├\n",
       "«     ┌───┐┌──────────┐ ░ └──────────┘└╥┘\n",
       "«q_1: ┤ X ├┤ Rx(-π/2) ├─░──────────────╫─\n",
       "«     └─┬─┘├──────────┤ ░              ║ \n",
       "«q_2: ──■──┤ Rx(-π/2) ├─░──────────────╫─\n",
       "«          └──────────┘ ░              ║ \n",
       "«c: 1/═════════════════════════════════╩═\n",
       "«                                      0 </pre>"
      ],
      "text/plain": [
       "     ┌──────────┐┌───────┐┌───────────┐          ░ ┌───────────┐          ░ »\n",
       "q_0: ┤ Ry(-π/2) ├┤ Rz(0) ├┤ Rz(-0.25) ├────■─────░─┤ Rz(-0.25) ├────■─────░─»\n",
       "     └──────────┘└───────┘└───────────┘┌───┴───┐ ░ └───────────┘    │     ░ »\n",
       "q_1: ──────────────────────────────────┤ Rz(1) ├─░──────────────────┼─────░─»\n",
       "                                       └───────┘ ░              ┌───┴───┐ ░ »\n",
       "q_2: ────────────────────────────────────────────░──────────────┤ Rz(1) ├─░─»\n",
       "                                                 ░              └───────┘ ░ »\n",
       "c: 1/═══════════════════════════════════════════════════════════════════════»\n",
       "                                                                            »\n",
       "«     ┌──────────┐                                ░ ┌──────────┐              »\n",
       "«q_0: ┤ Rz(-0.5) ├─────────■──────────────────────░─┤ Rz(-0.5) ├─────────■────»\n",
       "«     ├─────────┬┘┌───┐┌───┴───┐┌───┐┌──────────┐ ░ ├─────────┬┘┌───┐┌───┴───┐»\n",
       "«q_1: ┤ Ry(π/2) ├─┤ X ├┤ Rz(1) ├┤ X ├┤ Ry(-π/2) ├─░─┤ Rx(π/2) ├─┤ X ├┤ Rz(1) ├»\n",
       "«     ├─────────┤ └─┬─┘└───────┘└─┬─┘├──────────┤ ░ ├─────────┤ └─┬─┘└───────┘»\n",
       "«q_2: ┤ Ry(π/2) ├───■─────────────■──┤ Ry(-π/2) ├─░─┤ Rx(π/2) ├───■───────────»\n",
       "«     └─────────┘                    └──────────┘ ░ └─────────┘               »\n",
       "«c: 1/════════════════════════════════════════════════════════════════════════»\n",
       "«                                                                             »\n",
       "«                       ░ ┌──────────┐┌─┐\n",
       "«q_0: ──────────────────░─┤ Ry(-π/2) ├┤M├\n",
       "«     ┌───┐┌──────────┐ ░ └──────────┘└╥┘\n",
       "«q_1: ┤ X ├┤ Rx(-π/2) ├─░──────────────╫─\n",
       "«     └─┬─┘├──────────┤ ░              ║ \n",
       "«q_2: ──■──┤ Rx(-π/2) ├─░──────────────╫─\n",
       "«          └──────────┘ ░              ║ \n",
       "«c: 1/═════════════════════════════════╩═\n",
       "«                                      0 "
      ]
     },
     "execution_count": 56,
     "metadata": {},
     "output_type": "execute_result"
    }
   ],
   "source": [
    "qc.draw()"
   ]
  },
  {
   "cell_type": "code",
   "execution_count": null,
   "metadata": {},
   "outputs": [],
   "source": []
  }
 ],
 "metadata": {
  "kernel_info": {
   "name": "python3"
  },
  "kernelspec": {
   "display_name": "Python 3 (ipykernel)",
   "language": "python",
   "name": "python3"
  },
  "language_info": {
   "codemirror_mode": {
    "name": "ipython",
    "version": 3
   },
   "file_extension": ".py",
   "mimetype": "text/x-python",
   "name": "python",
   "nbconvert_exporter": "python",
   "pygments_lexer": "ipython3",
   "version": "3.10.0"
  },
  "nteract": {
   "version": "nteract-front-end@1.0.0"
  }
 },
 "nbformat": 4,
 "nbformat_minor": 1
}
