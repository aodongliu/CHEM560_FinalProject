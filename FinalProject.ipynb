{
 "cells": [
  {
   "cell_type": "code",
   "execution_count": 37,
   "metadata": {
    "jupyter": {
     "outputs_hidden": false,
     "source_hidden": false
    },
    "nteract": {
     "transient": {
      "deleting": false
     }
    }
   },
   "outputs": [
    {
     "name": "stdout",
     "output_type": "stream",
     "text": [
      "Defaulting to user installation because normal site-packages is not writeable\n",
      "Requirement already satisfied: qiskit in ./.local/lib/python3.7/site-packages (0.36.1)\n",
      "Requirement already satisfied: qiskit-ibmq-provider==0.19.1 in ./.local/lib/python3.7/site-packages (from qiskit) (0.19.1)\n",
      "Requirement already satisfied: qiskit-ignis==0.7.0 in /usr/local/lib/python3.7/site-packages (from qiskit) (0.7.0)\n",
      "Requirement already satisfied: qiskit-terra==0.20.1 in ./.local/lib/python3.7/site-packages (from qiskit) (0.20.1)\n",
      "Requirement already satisfied: qiskit-aer==0.10.4 in ./.local/lib/python3.7/site-packages (from qiskit) (0.10.4)\n",
      "Requirement already satisfied: numpy>=1.16.3 in /usr/local/lib/python3.7/site-packages (from qiskit-aer==0.10.4->qiskit) (1.21.5)\n",
      "Requirement already satisfied: scipy>=1.0 in /usr/local/lib/python3.7/site-packages (from qiskit-aer==0.10.4->qiskit) (1.7.3)\n",
      "Requirement already satisfied: websocket-client>=1.0.1 in /usr/local/lib/python3.7/site-packages (from qiskit-ibmq-provider==0.19.1->qiskit) (1.3.2)\n",
      "Requirement already satisfied: urllib3>=1.21.1 in /usr/local/lib/python3.7/site-packages (from qiskit-ibmq-provider==0.19.1->qiskit) (1.26.9)\n",
      "Requirement already satisfied: python-dateutil>=2.8.0 in /usr/local/lib/python3.7/site-packages (from qiskit-ibmq-provider==0.19.1->qiskit) (2.8.2)\n",
      "Requirement already satisfied: requests-ntlm>=1.1.0 in ./.local/lib/python3.7/site-packages (from qiskit-ibmq-provider==0.19.1->qiskit) (1.1.0)\n",
      "Requirement already satisfied: websockets>=10.0 in ./.local/lib/python3.7/site-packages (from qiskit-ibmq-provider==0.19.1->qiskit) (10.3)\n",
      "Requirement already satisfied: requests>=2.19 in /usr/local/lib/python3.7/site-packages (from qiskit-ibmq-provider==0.19.1->qiskit) (2.27.1)\n",
      "Requirement already satisfied: setuptools>=40.1.0 in /usr/local/lib/python3.7/site-packages (from qiskit-ignis==0.7.0->qiskit) (57.5.0)\n",
      "Requirement already satisfied: retworkx>=0.8.0 in /usr/local/lib/python3.7/site-packages (from qiskit-ignis==0.7.0->qiskit) (0.11.0)\n",
      "Requirement already satisfied: ply>=3.10 in /usr/local/lib/python3.7/site-packages (from qiskit-terra==0.20.1->qiskit) (3.11)\n",
      "Requirement already satisfied: psutil>=5 in /usr/local/lib/python3.7/site-packages (from qiskit-terra==0.20.1->qiskit) (5.9.0)\n",
      "Requirement already satisfied: sympy>=1.3 in /usr/local/lib/python3.7/site-packages (from qiskit-terra==0.20.1->qiskit) (1.10.1)\n",
      "Requirement already satisfied: python-constraint>=1.4 in /usr/local/lib/python3.7/site-packages (from qiskit-terra==0.20.1->qiskit) (1.4.0)\n",
      "Requirement already satisfied: symengine>=0.9 in /usr/local/lib/python3.7/site-packages (from qiskit-terra==0.20.1->qiskit) (0.9.2)\n",
      "Requirement already satisfied: dill>=0.3 in /usr/local/lib/python3.7/site-packages (from qiskit-terra==0.20.1->qiskit) (0.3.4)\n",
      "Requirement already satisfied: stevedore>=3.0.0 in /usr/local/lib/python3.7/site-packages (from qiskit-terra==0.20.1->qiskit) (3.5.0)\n",
      "Requirement already satisfied: tweedledum<2.0,>=1.1 in /usr/local/lib/python3.7/site-packages (from qiskit-terra==0.20.1->qiskit) (1.1.1)\n",
      "Requirement already satisfied: six>=1.5 in /usr/local/lib/python3.7/site-packages (from python-dateutil>=2.8.0->qiskit-ibmq-provider==0.19.1->qiskit) (1.16.0)\n",
      "Requirement already satisfied: idna<4,>=2.5 in /usr/local/lib/python3.7/site-packages (from requests>=2.19->qiskit-ibmq-provider==0.19.1->qiskit) (3.3)\n",
      "Requirement already satisfied: certifi>=2017.4.17 in /usr/local/lib/python3.7/site-packages (from requests>=2.19->qiskit-ibmq-provider==0.19.1->qiskit) (2021.10.8)\n",
      "Requirement already satisfied: charset-normalizer~=2.0.0 in /usr/local/lib/python3.7/site-packages (from requests>=2.19->qiskit-ibmq-provider==0.19.1->qiskit) (2.0.12)\n",
      "Requirement already satisfied: cryptography>=1.3 in /usr/local/lib/python3.7/site-packages (from requests-ntlm>=1.1.0->qiskit-ibmq-provider==0.19.1->qiskit) (36.0.2)\n",
      "Requirement already satisfied: ntlm-auth>=1.0.2 in ./.local/lib/python3.7/site-packages (from requests-ntlm>=1.1.0->qiskit-ibmq-provider==0.19.1->qiskit) (1.5.0)\n",
      "Requirement already satisfied: pbr!=2.1.0,>=2.0.0 in /usr/local/lib/python3.7/site-packages (from stevedore>=3.0.0->qiskit-terra==0.20.1->qiskit) (5.8.1)\n",
      "Requirement already satisfied: importlib-metadata>=1.7.0 in /usr/local/lib/python3.7/site-packages (from stevedore>=3.0.0->qiskit-terra==0.20.1->qiskit) (2.1.3)\n",
      "Requirement already satisfied: mpmath>=0.19 in /usr/local/lib/python3.7/site-packages (from sympy>=1.3->qiskit-terra==0.20.1->qiskit) (1.2.1)\n",
      "Requirement already satisfied: cffi>=1.12 in /usr/local/lib/python3.7/site-packages (from cryptography>=1.3->requests-ntlm>=1.1.0->qiskit-ibmq-provider==0.19.1->qiskit) (1.15.0)\n",
      "Requirement already satisfied: zipp>=0.5 in /usr/local/lib/python3.7/site-packages (from importlib-metadata>=1.7.0->stevedore>=3.0.0->qiskit-terra==0.20.1->qiskit) (3.7.0)\n",
      "Requirement already satisfied: pycparser in /usr/local/lib/python3.7/site-packages (from cffi>=1.12->cryptography>=1.3->requests-ntlm>=1.1.0->qiskit-ibmq-provider==0.19.1->qiskit) (2.21)\n",
      "Defaulting to user installation because normal site-packages is not writeable\n",
      "Requirement already satisfied: qiskit_experiments in ./.local/lib/python3.7/site-packages (0.3.0)\n",
      "Requirement already satisfied: qiskit-terra>=0.20.1 in ./.local/lib/python3.7/site-packages (from qiskit_experiments) (0.20.1)\n",
      "Requirement already satisfied: qiskit-ibmq-provider>=0.16.0 in ./.local/lib/python3.7/site-packages (from qiskit_experiments) (0.19.1)\n",
      "Requirement already satisfied: uncertainties in ./.local/lib/python3.7/site-packages (from qiskit_experiments) (3.1.6)\n",
      "Requirement already satisfied: scipy>=1.4 in /usr/local/lib/python3.7/site-packages (from qiskit_experiments) (1.7.3)\n",
      "Requirement already satisfied: numpy>=1.17 in /usr/local/lib/python3.7/site-packages (from qiskit_experiments) (1.21.5)\n",
      "Requirement already satisfied: matplotlib>=3.4 in /usr/local/lib/python3.7/site-packages (from qiskit_experiments) (3.5.1)\n",
      "Requirement already satisfied: python-dateutil>=2.7 in /usr/local/lib/python3.7/site-packages (from matplotlib>=3.4->qiskit_experiments) (2.8.2)\n",
      "Requirement already satisfied: cycler>=0.10 in /usr/local/lib/python3.7/site-packages (from matplotlib>=3.4->qiskit_experiments) (0.11.0)\n",
      "Requirement already satisfied: packaging>=20.0 in /usr/local/lib/python3.7/site-packages (from matplotlib>=3.4->qiskit_experiments) (21.3)\n",
      "Requirement already satisfied: kiwisolver>=1.0.1 in /usr/local/lib/python3.7/site-packages (from matplotlib>=3.4->qiskit_experiments) (1.4.2)\n",
      "Requirement already satisfied: pillow>=6.2.0 in /usr/local/lib/python3.7/site-packages (from matplotlib>=3.4->qiskit_experiments) (9.0.1)\n",
      "Requirement already satisfied: fonttools>=4.22.0 in /usr/local/lib/python3.7/site-packages (from matplotlib>=3.4->qiskit_experiments) (4.31.2)\n",
      "Requirement already satisfied: pyparsing>=2.2.1 in /usr/local/lib/python3.7/site-packages (from matplotlib>=3.4->qiskit_experiments) (3.0.7)\n",
      "Requirement already satisfied: websockets>=10.0 in ./.local/lib/python3.7/site-packages (from qiskit-ibmq-provider>=0.16.0->qiskit_experiments) (10.3)\n",
      "Requirement already satisfied: urllib3>=1.21.1 in /usr/local/lib/python3.7/site-packages (from qiskit-ibmq-provider>=0.16.0->qiskit_experiments) (1.26.9)\n",
      "Requirement already satisfied: requests>=2.19 in /usr/local/lib/python3.7/site-packages (from qiskit-ibmq-provider>=0.16.0->qiskit_experiments) (2.27.1)\n",
      "Requirement already satisfied: websocket-client>=1.0.1 in /usr/local/lib/python3.7/site-packages (from qiskit-ibmq-provider>=0.16.0->qiskit_experiments) (1.3.2)\n",
      "Requirement already satisfied: requests-ntlm>=1.1.0 in ./.local/lib/python3.7/site-packages (from qiskit-ibmq-provider>=0.16.0->qiskit_experiments) (1.1.0)\n",
      "Requirement already satisfied: sympy>=1.3 in /usr/local/lib/python3.7/site-packages (from qiskit-terra>=0.20.1->qiskit_experiments) (1.10.1)\n",
      "Requirement already satisfied: stevedore>=3.0.0 in /usr/local/lib/python3.7/site-packages (from qiskit-terra>=0.20.1->qiskit_experiments) (3.5.0)\n",
      "Requirement already satisfied: tweedledum<2.0,>=1.1 in /usr/local/lib/python3.7/site-packages (from qiskit-terra>=0.20.1->qiskit_experiments) (1.1.1)\n",
      "Requirement already satisfied: retworkx>=0.11.0 in /usr/local/lib/python3.7/site-packages (from qiskit-terra>=0.20.1->qiskit_experiments) (0.11.0)\n",
      "Requirement already satisfied: symengine>=0.9 in /usr/local/lib/python3.7/site-packages (from qiskit-terra>=0.20.1->qiskit_experiments) (0.9.2)\n",
      "Requirement already satisfied: psutil>=5 in /usr/local/lib/python3.7/site-packages (from qiskit-terra>=0.20.1->qiskit_experiments) (5.9.0)\n",
      "Requirement already satisfied: python-constraint>=1.4 in /usr/local/lib/python3.7/site-packages (from qiskit-terra>=0.20.1->qiskit_experiments) (1.4.0)\n",
      "Requirement already satisfied: dill>=0.3 in /usr/local/lib/python3.7/site-packages (from qiskit-terra>=0.20.1->qiskit_experiments) (0.3.4)\n",
      "Requirement already satisfied: ply>=3.10 in /usr/local/lib/python3.7/site-packages (from qiskit-terra>=0.20.1->qiskit_experiments) (3.11)\n",
      "Requirement already satisfied: future in ./.local/lib/python3.7/site-packages (from uncertainties->qiskit_experiments) (0.18.2)\n",
      "Requirement already satisfied: typing-extensions in /usr/local/lib/python3.7/site-packages (from kiwisolver>=1.0.1->matplotlib>=3.4->qiskit_experiments) (4.1.1)\n",
      "Requirement already satisfied: six>=1.5 in /usr/local/lib/python3.7/site-packages (from python-dateutil>=2.7->matplotlib>=3.4->qiskit_experiments) (1.16.0)\n",
      "Requirement already satisfied: certifi>=2017.4.17 in /usr/local/lib/python3.7/site-packages (from requests>=2.19->qiskit-ibmq-provider>=0.16.0->qiskit_experiments) (2021.10.8)\n",
      "Requirement already satisfied: charset-normalizer~=2.0.0 in /usr/local/lib/python3.7/site-packages (from requests>=2.19->qiskit-ibmq-provider>=0.16.0->qiskit_experiments) (2.0.12)\n",
      "Requirement already satisfied: idna<4,>=2.5 in /usr/local/lib/python3.7/site-packages (from requests>=2.19->qiskit-ibmq-provider>=0.16.0->qiskit_experiments) (3.3)\n",
      "Requirement already satisfied: cryptography>=1.3 in /usr/local/lib/python3.7/site-packages (from requests-ntlm>=1.1.0->qiskit-ibmq-provider>=0.16.0->qiskit_experiments) (36.0.2)\n",
      "Requirement already satisfied: ntlm-auth>=1.0.2 in ./.local/lib/python3.7/site-packages (from requests-ntlm>=1.1.0->qiskit-ibmq-provider>=0.16.0->qiskit_experiments) (1.5.0)\n",
      "Requirement already satisfied: importlib-metadata>=1.7.0 in /usr/local/lib/python3.7/site-packages (from stevedore>=3.0.0->qiskit-terra>=0.20.1->qiskit_experiments) (2.1.3)\n",
      "Requirement already satisfied: pbr!=2.1.0,>=2.0.0 in /usr/local/lib/python3.7/site-packages (from stevedore>=3.0.0->qiskit-terra>=0.20.1->qiskit_experiments) (5.8.1)\n",
      "Requirement already satisfied: mpmath>=0.19 in /usr/local/lib/python3.7/site-packages (from sympy>=1.3->qiskit-terra>=0.20.1->qiskit_experiments) (1.2.1)\n",
      "Requirement already satisfied: cffi>=1.12 in /usr/local/lib/python3.7/site-packages (from cryptography>=1.3->requests-ntlm>=1.1.0->qiskit-ibmq-provider>=0.16.0->qiskit_experiments) (1.15.0)\n",
      "Requirement already satisfied: zipp>=0.5 in /usr/local/lib/python3.7/site-packages (from importlib-metadata>=1.7.0->stevedore>=3.0.0->qiskit-terra>=0.20.1->qiskit_experiments) (3.7.0)\n",
      "Requirement already satisfied: pycparser in /usr/local/lib/python3.7/site-packages (from cffi>=1.12->cryptography>=1.3->requests-ntlm>=1.1.0->qiskit-ibmq-provider>=0.16.0->qiskit_experiments) (2.21)\n",
      "Defaulting to user installation because normal site-packages is not writeable\n",
      "Requirement already satisfied: azure-quantum[qiskit]==0.23.201228b1 in ./.local/lib/python3.7/site-packages (0.23.201228b1)\n",
      "Requirement already satisfied: azure-storage-blob>=12.8.1 in /usr/local/lib/python3.7/site-packages (from azure-quantum[qiskit]==0.23.201228b1) (12.10.0)\n",
      "Requirement already satisfied: aiofile>=3.7.2 in /usr/local/lib/python3.7/site-packages (from azure-quantum[qiskit]==0.23.201228b1) (3.7.4)\n",
      "Requirement already satisfied: numpy>=1.21.0 in /usr/local/lib/python3.7/site-packages (from azure-quantum[qiskit]==0.23.201228b1) (1.21.5)\n",
      "Requirement already satisfied: aiohttp>=3.7.0 in /usr/local/lib/python3.7/site-packages (from azure-quantum[qiskit]==0.23.201228b1) (3.8.1)\n",
      "Requirement already satisfied: azure-identity>=1.6.0 in /usr/local/lib/python3.7/site-packages (from azure-quantum[qiskit]==0.23.201228b1) (1.8.0)\n",
      "Requirement already satisfied: msrest>=0.6.21 in /usr/local/lib/python3.7/site-packages (from azure-quantum[qiskit]==0.23.201228b1) (0.6.21)\n",
      "Requirement already satisfied: protobuf>=3.14.0 in /usr/local/lib/python3.7/site-packages (from azure-quantum[qiskit]==0.23.201228b1) (3.19.4)\n",
      "Requirement already satisfied: azure-core>=1.19.1 in /usr/local/lib/python3.7/site-packages (from azure-quantum[qiskit]==0.23.201228b1) (1.23.0)\n",
      "Requirement already satisfied: deprecated>=1.2.12 in /usr/local/lib/python3.7/site-packages (from azure-quantum[qiskit]==0.23.201228b1) (1.2.13)\n",
      "Requirement already satisfied: qiskit-terra>=0.19.1 in ./.local/lib/python3.7/site-packages (from azure-quantum[qiskit]==0.23.201228b1) (0.20.1)\n",
      "Requirement already satisfied: qiskit-ionq>=0.1.4 in /usr/local/lib/python3.7/site-packages (from azure-quantum[qiskit]==0.23.201228b1) (0.1.4)\n",
      "Requirement already satisfied: caio~=0.9.0 in /usr/local/lib/python3.7/site-packages (from aiofile>=3.7.2->azure-quantum[qiskit]==0.23.201228b1) (0.9.5)\n",
      "Requirement already satisfied: multidict<7.0,>=4.5 in /usr/local/lib/python3.7/site-packages (from aiohttp>=3.7.0->azure-quantum[qiskit]==0.23.201228b1) (6.0.2)\n",
      "Requirement already satisfied: yarl<2.0,>=1.0 in /usr/local/lib/python3.7/site-packages (from aiohttp>=3.7.0->azure-quantum[qiskit]==0.23.201228b1) (1.7.2)\n",
      "Requirement already satisfied: charset-normalizer<3.0,>=2.0 in /usr/local/lib/python3.7/site-packages (from aiohttp>=3.7.0->azure-quantum[qiskit]==0.23.201228b1) (2.0.12)\n",
      "Requirement already satisfied: attrs>=17.3.0 in /usr/local/lib/python3.7/site-packages (from aiohttp>=3.7.0->azure-quantum[qiskit]==0.23.201228b1) (21.4.0)\n",
      "Requirement already satisfied: typing-extensions>=3.7.4 in /usr/local/lib/python3.7/site-packages (from aiohttp>=3.7.0->azure-quantum[qiskit]==0.23.201228b1) (4.1.1)\n",
      "Requirement already satisfied: aiosignal>=1.1.2 in /usr/local/lib/python3.7/site-packages (from aiohttp>=3.7.0->azure-quantum[qiskit]==0.23.201228b1) (1.2.0)\n",
      "Requirement already satisfied: async-timeout<5.0,>=4.0.0a3 in /usr/local/lib/python3.7/site-packages (from aiohttp>=3.7.0->azure-quantum[qiskit]==0.23.201228b1) (4.0.2)\n",
      "Requirement already satisfied: frozenlist>=1.1.1 in /usr/local/lib/python3.7/site-packages (from aiohttp>=3.7.0->azure-quantum[qiskit]==0.23.201228b1) (1.3.0)\n",
      "Requirement already satisfied: asynctest==0.13.0 in /usr/local/lib/python3.7/site-packages (from aiohttp>=3.7.0->azure-quantum[qiskit]==0.23.201228b1) (0.13.0)\n",
      "Requirement already satisfied: requests>=2.18.4 in /usr/local/lib/python3.7/site-packages (from azure-core>=1.19.1->azure-quantum[qiskit]==0.23.201228b1) (2.27.1)\n",
      "Requirement already satisfied: six>=1.11.0 in /usr/local/lib/python3.7/site-packages (from azure-core>=1.19.1->azure-quantum[qiskit]==0.23.201228b1) (1.16.0)\n",
      "Requirement already satisfied: msal<2.0.0,>=1.12.0 in /usr/local/lib/python3.7/site-packages (from azure-identity>=1.6.0->azure-quantum[qiskit]==0.23.201228b1) (1.17.0)\n",
      "Requirement already satisfied: cryptography>=2.5 in /usr/local/lib/python3.7/site-packages (from azure-identity>=1.6.0->azure-quantum[qiskit]==0.23.201228b1) (36.0.2)\n",
      "Requirement already satisfied: msal-extensions~=0.3.0 in /usr/local/lib/python3.7/site-packages (from azure-identity>=1.6.0->azure-quantum[qiskit]==0.23.201228b1) (0.3.1)\n",
      "Requirement already satisfied: wrapt<2,>=1.10 in /usr/local/lib/python3.7/site-packages (from deprecated>=1.2.12->azure-quantum[qiskit]==0.23.201228b1) (1.14.0)\n",
      "Requirement already satisfied: certifi>=2017.4.17 in /usr/local/lib/python3.7/site-packages (from msrest>=0.6.21->azure-quantum[qiskit]==0.23.201228b1) (2021.10.8)\n",
      "Requirement already satisfied: requests-oauthlib>=0.5.0 in /usr/local/lib/python3.7/site-packages (from msrest>=0.6.21->azure-quantum[qiskit]==0.23.201228b1) (1.3.1)\n",
      "Requirement already satisfied: isodate>=0.6.0 in /usr/local/lib/python3.7/site-packages (from msrest>=0.6.21->azure-quantum[qiskit]==0.23.201228b1) (0.6.1)\n",
      "Requirement already satisfied: retworkx>=0.11.0 in /usr/local/lib/python3.7/site-packages (from qiskit-terra>=0.19.1->azure-quantum[qiskit]==0.23.201228b1) (0.11.0)\n",
      "Requirement already satisfied: scipy>=1.5 in /usr/local/lib/python3.7/site-packages (from qiskit-terra>=0.19.1->azure-quantum[qiskit]==0.23.201228b1) (1.7.3)\n",
      "Requirement already satisfied: symengine>=0.9 in /usr/local/lib/python3.7/site-packages (from qiskit-terra>=0.19.1->azure-quantum[qiskit]==0.23.201228b1) (0.9.2)\n",
      "Requirement already satisfied: psutil>=5 in /usr/local/lib/python3.7/site-packages (from qiskit-terra>=0.19.1->azure-quantum[qiskit]==0.23.201228b1) (5.9.0)\n",
      "Requirement already satisfied: python-dateutil>=2.8.0 in /usr/local/lib/python3.7/site-packages (from qiskit-terra>=0.19.1->azure-quantum[qiskit]==0.23.201228b1) (2.8.2)\n",
      "Requirement already satisfied: stevedore>=3.0.0 in /usr/local/lib/python3.7/site-packages (from qiskit-terra>=0.19.1->azure-quantum[qiskit]==0.23.201228b1) (3.5.0)\n",
      "Requirement already satisfied: ply>=3.10 in /usr/local/lib/python3.7/site-packages (from qiskit-terra>=0.19.1->azure-quantum[qiskit]==0.23.201228b1) (3.11)\n",
      "Requirement already satisfied: sympy>=1.3 in /usr/local/lib/python3.7/site-packages (from qiskit-terra>=0.19.1->azure-quantum[qiskit]==0.23.201228b1) (1.10.1)\n",
      "Requirement already satisfied: dill>=0.3 in /usr/local/lib/python3.7/site-packages (from qiskit-terra>=0.19.1->azure-quantum[qiskit]==0.23.201228b1) (0.3.4)\n",
      "Requirement already satisfied: python-constraint>=1.4 in /usr/local/lib/python3.7/site-packages (from qiskit-terra>=0.19.1->azure-quantum[qiskit]==0.23.201228b1) (1.4.0)\n",
      "Requirement already satisfied: tweedledum<2.0,>=1.1 in /usr/local/lib/python3.7/site-packages (from qiskit-terra>=0.19.1->azure-quantum[qiskit]==0.23.201228b1) (1.1.1)\n",
      "Requirement already satisfied: cffi>=1.12 in /usr/local/lib/python3.7/site-packages (from cryptography>=2.5->azure-identity>=1.6.0->azure-quantum[qiskit]==0.23.201228b1) (1.15.0)\n",
      "Requirement already satisfied: PyJWT[crypto]<3,>=1.0.0 in /usr/local/lib/python3.7/site-packages (from msal<2.0.0,>=1.12.0->azure-identity>=1.6.0->azure-quantum[qiskit]==0.23.201228b1) (2.3.0)\n",
      "Requirement already satisfied: portalocker<3,>=1.0 in /usr/local/lib/python3.7/site-packages (from msal-extensions~=0.3.0->azure-identity>=1.6.0->azure-quantum[qiskit]==0.23.201228b1) (2.4.0)\n",
      "Requirement already satisfied: idna<4,>=2.5 in /usr/local/lib/python3.7/site-packages (from requests>=2.18.4->azure-core>=1.19.1->azure-quantum[qiskit]==0.23.201228b1) (3.3)\n",
      "Requirement already satisfied: urllib3<1.27,>=1.21.1 in /usr/local/lib/python3.7/site-packages (from requests>=2.18.4->azure-core>=1.19.1->azure-quantum[qiskit]==0.23.201228b1) (1.26.9)\n",
      "Requirement already satisfied: oauthlib>=3.0.0 in /usr/local/lib/python3.7/site-packages (from requests-oauthlib>=0.5.0->msrest>=0.6.21->azure-quantum[qiskit]==0.23.201228b1) (3.2.0)\n",
      "Requirement already satisfied: pbr!=2.1.0,>=2.0.0 in /usr/local/lib/python3.7/site-packages (from stevedore>=3.0.0->qiskit-terra>=0.19.1->azure-quantum[qiskit]==0.23.201228b1) (5.8.1)\n",
      "Requirement already satisfied: importlib-metadata>=1.7.0 in /usr/local/lib/python3.7/site-packages (from stevedore>=3.0.0->qiskit-terra>=0.19.1->azure-quantum[qiskit]==0.23.201228b1) (2.1.3)\n",
      "Requirement already satisfied: mpmath>=0.19 in /usr/local/lib/python3.7/site-packages (from sympy>=1.3->qiskit-terra>=0.19.1->azure-quantum[qiskit]==0.23.201228b1) (1.2.1)\n",
      "Requirement already satisfied: pycparser in /usr/local/lib/python3.7/site-packages (from cffi>=1.12->cryptography>=2.5->azure-identity>=1.6.0->azure-quantum[qiskit]==0.23.201228b1) (2.21)\n",
      "Requirement already satisfied: zipp>=0.5 in /usr/local/lib/python3.7/site-packages (from importlib-metadata>=1.7.0->stevedore>=3.0.0->qiskit-terra>=0.19.1->azure-quantum[qiskit]==0.23.201228b1) (3.7.0)\n"
     ]
    }
   ],
   "source": [
    "!pip install qiskit\n",
    "!pip install qiskit_experiments\n",
    "!pip install azure-quantum[qiskit]==0.23.201228b1"
   ]
  },
  {
   "cell_type": "code",
   "execution_count": 1,
   "metadata": {
    "jupyter": {
     "outputs_hidden": false,
     "source_hidden": false
    },
    "nteract": {
     "transient": {
      "deleting": false
     }
    }
   },
   "outputs": [],
   "source": [
    "\n",
    "from azure.quantum.qiskit import AzureQuantumProvider\n",
    "provider = AzureQuantumProvider (\n",
    "    resource_id = \"/subscriptions/33e6f75e-0499-425c-8b7d-9f593dde82b6/resourceGroups/AQET/providers/Microsoft.Quantum/Workspaces/CHEM560\",\n",
    "    location = \"westus\")\n",
    "\n",
    "\n",
    "from IPython.display import Image\n",
    "from IPython.core.display import HTML \n",
    "\n",
    "import qiskit\n",
    "\n",
    "from qiskit.quantum_info import DensityMatrix\n",
    "from qiskit_experiments.framework import ParallelExperiment\n",
    "from qiskit_experiments.framework.experiment_data import ExperimentData\n",
    "import qiskit.quantum_info as qi\n",
    "from qiskit_experiments.library import StateTomography\n",
    "\n",
    "from qiskit import QuantumCircuit, assemble, Aer\n",
    "from math import pi, sqrt\n",
    "from qiskit.visualization import plot_bloch_multivector, plot_histogram, plot_state_city\n",
    "\n",
    "import numpy as np\n",
    "\n"
   ]
  },
  {
   "cell_type": "code",
   "execution_count": 2,
   "metadata": {
    "jupyter": {
     "outputs_hidden": false,
     "source_hidden": false
    },
    "nteract": {
     "transient": {
      "deleting": false
     }
    }
   },
   "outputs": [
    {
     "name": "stdout",
     "output_type": "stream",
     "text": [
      "This workspace's targets:\n",
      "- ionq.qpu\n",
      "- ionq.simulator\n",
      "- quantinuum.hqs-lt-s1\n",
      "- quantinuum.hqs-lt-s1-apival\n",
      "- quantinuum.hqs-lt-s2\n",
      "- quantinuum.hqs-lt-s2-apival\n",
      "- quantinuum.hqs-lt-s1-sim\n",
      "- quantinuum.hqs-lt-s2-sim\n"
     ]
    }
   ],
   "source": [
    "from qiskit import QuantumCircuit\n",
    "from qiskit.visualization import plot_histogram\n",
    "from qiskit.tools.monitor import job_monitor\n",
    "\n",
    "print(\"This workspace's targets:\")\n",
    "for backend in provider.backends():\n",
    "    print(\"- \" + backend.name())"
   ]
  },
  {
   "cell_type": "code",
   "execution_count": 3,
   "metadata": {
    "jupyter": {
     "outputs_hidden": false,
     "source_hidden": false
    },
    "nteract": {
     "transient": {
      "deleting": false
     }
    }
   },
   "outputs": [],
   "source": [
    "ionq_simulator_backend = provider.get_backend(\"ionq.simulator\")\n",
    "ionq_qpu_backend = provider.get_backend(\"ionq.qpu\")\n",
    "aer_simulator_backend = Aer.get_backend('aer_simulator')"
   ]
  },
  {
   "cell_type": "markdown",
   "metadata": {
    "nteract": {
     "transient": {
      "deleting": false
     }
    }
   },
   "source": [
    "# CHEM 560 Final Project\n",
    "\n",
    "## Contributors: Ivan Chernyshev, Ben Link, Aodong Liu"
   ]
  },
  {
   "cell_type": "markdown",
   "metadata": {
    "nteract": {
     "transient": {
      "deleting": false
     }
    }
   },
   "source": [
    "<div class=\"alert-info\">\n",
    "Abstract:\n",
    "    Our goal with the final project is to apply two algorithms in tandem in order to simulate time-dependent Hamiltonians with quantum computation. Previously, we had determined the ground state of minimal hydrogen molecule up to the configuration interaction (Full-CI) picture directly utilizing the unitary coupled-cluster (UCC) ansatz. This, in principle, can also be done by utilizing a different method. Rather than directly computing the coefficients via a VQE algorithm, simulation of quantum dynamics can be performed by explicitly propagating the time-dependent Hamiltonian. In this work, we plan on expressing the ground state Hamiltonian in the first-order Trotterized time-evolution operator, then by performing iterative phase estimation, we can determine the ground state molecular energy of hydrogen. This work is largely inspired by this paper (1), which accumulates the phase from the PEA on an ancilla qubit, which is measured for each shot of the experiment. While the paper explicitly reports the entire potential energy surface along with the dissociation energy, within our time restraint we will focus on characterizing the minimum of the potential energy surface, giving an accurate description of the ground-state hydrogen molecule. Since PEA tends to be less resilient to error than VQE, we plan to do error characterization and correction.\n",
    "</div>\n"
   ]
  },
  {
   "cell_type": "markdown",
   "metadata": {},
   "source": [
    "### Theory and Backgound "
   ]
  },
  {
   "cell_type": "code",
   "execution_count": null,
   "metadata": {},
   "outputs": [],
   "source": []
  },
  {
   "cell_type": "code",
   "execution_count": null,
   "metadata": {},
   "outputs": [],
   "source": []
  },
  {
   "cell_type": "code",
   "execution_count": null,
   "metadata": {},
   "outputs": [],
   "source": []
  },
  {
   "cell_type": "code",
   "execution_count": null,
   "metadata": {},
   "outputs": [],
   "source": []
  },
  {
   "cell_type": "code",
   "execution_count": null,
   "metadata": {},
   "outputs": [],
   "source": []
  },
  {
   "cell_type": "code",
   "execution_count": null,
   "metadata": {},
   "outputs": [],
   "source": []
  },
  {
   "cell_type": "code",
   "execution_count": null,
   "metadata": {},
   "outputs": [],
   "source": []
  },
  {
   "cell_type": "code",
   "execution_count": null,
   "metadata": {},
   "outputs": [],
   "source": []
  },
  {
   "cell_type": "markdown",
   "metadata": {
    "nteract": {
     "transient": {
      "deleting": false
     }
    }
   },
   "source": [
    "**1. First, define helper functions**"
   ]
  },
  {
   "cell_type": "code",
   "execution_count": 4,
   "metadata": {
    "jupyter": {
     "outputs_hidden": false,
     "source_hidden": false
    },
    "nteract": {
     "transient": {
      "deleting": false
     }
    }
   },
   "outputs": [],
   "source": [
    "def get_gi_energy(result,g):\n",
    "    count1 = 0.0\n",
    "    count0 = 0.0\n",
    "    if ('0' in result.get_counts()):\n",
    "        count0 = result.get_counts()['0']\n",
    "\n",
    "    if ('1' in result.get_counts()):\n",
    "        count1 = result.get_counts()['1']\n",
    "\n",
    "    prob1 = np.sqrt(count1/(count1+count0))\n",
    "    prob0 = np.sqrt(count0/(count1+count0))\n",
    "    expectation_val = prob0**2 - prob1**2\n",
    "    energy = g*(expectation_val)\n",
    "\n",
    "    return energy"
   ]
  },
  {
   "cell_type": "code",
   "execution_count": 5,
   "metadata": {
    "jupyter": {
     "outputs_hidden": false,
     "source_hidden": false
    },
    "nteract": {
     "transient": {
      "deleting": false
     }
    }
   },
   "outputs": [],
   "source": [
    "def get_total_energy(job_list):\n",
    "    gi_energy = []\n",
    "    g0 = 2.1868 \n",
    "    cum_energy = 0.0\n",
    "    g_para = [0.5449, -1.2870, +0.6719, +0.0798, +0.0798]\n",
    "    print('g%d Energy: %15.7f Eh' % (0,g0))\n",
    "    for i in range (5):\n",
    "        Egi =  get_gi_energy(job_list[i].result(), g_para[i])\n",
    "        gi_energy.append(Egi)\n",
    "        cum_energy += Egi\n",
    "        print('g%d Energy: %15.7f Eh' % (i+1,Egi))\n",
    "    \n",
    "    total_energy = cum_energy + g0\n",
    "\n",
    "    print('Total Energy: %15.7f Eh' % total_energy)\n",
    "    print('\\n')\n",
    "    return total_energy"
   ]
  },
  {
   "cell_type": "code",
   "execution_count": 6,
   "metadata": {
    "jupyter": {
     "outputs_hidden": false,
     "source_hidden": false
    },
    "nteract": {
     "transient": {
      "deleting": false
     }
    }
   },
   "outputs": [],
   "source": [
    "def contruct_gi_circuit(theta, g_number):\n",
    "    \n",
    "\n",
    "    # Create initial state |01>\n",
    "    circuit_gi = QuantumCircuit(2,1)\n",
    "    circuit_gi.name = 'measurement for g' + str(g_number)\n",
    "    circuit_gi.x(1)\n",
    "\n",
    "    # Apply the Ansatz\n",
    "    circuit_gi.ry(np.pi/2,0)\n",
    "    circuit_gi.rx(3*np.pi/2,1)\n",
    "    circuit_gi.cx(0,1)\n",
    "    circuit_gi.rz(theta,1)\n",
    "    circuit_gi.cx(0,1)\n",
    "    circuit_gi.ry(3*np.pi/2,0)\n",
    "    circuit_gi.rx(np.pi/2,1)\n",
    "\n",
    "    # Obtain measurement\n",
    "    if (g_number == 1 ):\n",
    "        # g1 <I1 Sz0>\n",
    "        circuit_gi.swap(0,1)   \n",
    "    elif (g_number == 3):\n",
    "        # g3 <Sz1 Sz0>\n",
    "        circuit_gi.cx(0,1)\n",
    "    elif (g_number == 4):\n",
    "        # g4 <Sx1 Sx0>\n",
    "        circuit_gi.cx(0,1)\n",
    "        circuit_gi.h(0)\n",
    "        circuit_gi.h(1)\n",
    "    elif (g_number == 5):\n",
    "        # g5 <Sy1 Sy0>\n",
    "        circuit_gi.cx(0,1)\n",
    "        circuit_gi.h(0)\n",
    "        circuit_gi.sdg(0)\n",
    "        circuit_gi.h(1)\n",
    "        circuit_gi.sdg(1)\n",
    "\n",
    "    # g2 <SZ1 I0>, so if g_number = 2, not need to do anything  \n",
    "    \n",
    "    circuit_gi.measure([1],[0])\n",
    "    # circuit_gx.draw()\n",
    "    return circuit_gi\n"
   ]
  },
  {
   "cell_type": "code",
   "execution_count": 7,
   "metadata": {
    "jupyter": {
     "outputs_hidden": false,
     "source_hidden": false
    },
    "nteract": {
     "transient": {
      "deleting": false
     }
    }
   },
   "outputs": [],
   "source": [
    "def construct_circuit_list(theta):\n",
    "    circuit_list = []\n",
    "    for gi in range(1,6):\n",
    "        circuit_list.append( contruct_gi_circuit(theta,gi) )\n",
    "    return circuit_list"
   ]
  },
  {
   "cell_type": "code",
   "execution_count": 8,
   "metadata": {
    "jupyter": {
     "outputs_hidden": false,
     "source_hidden": false
    },
    "nteract": {
     "transient": {
      "deleting": false
     }
    }
   },
   "outputs": [],
   "source": [
    "def procedural(theta,sim, nshots):\n",
    "    global total_call\n",
    "    total_call +=1\n",
    "\n",
    "    t = theta[0]\n",
    "\n",
    "    circuit_list = []\n",
    "\n",
    "    circuit_list = construct_circuit_list(t)\n",
    "\n",
    "    job_g1 = sim.run(circuit_list[0], shots = nshots)\n",
    "    job_g2 = sim.run(circuit_list[1], shots = nshots)\n",
    "    job_g3 = sim.run(circuit_list[2], shots = nshots)\n",
    "    job_g4 = sim.run(circuit_list[3], shots = nshots)\n",
    "    job_g5 = sim.run(circuit_list[4], shots = nshots)    \n",
    "    \n",
    "\n",
    "    job_list = [job_g1, job_g2, job_g3, job_g4, job_g5]\n",
    "\n",
    "    return get_total_energy(job_list)"
   ]
  },
  {
   "cell_type": "code",
   "execution_count": 9,
   "metadata": {
    "jupyter": {
     "outputs_hidden": false,
     "source_hidden": false
    },
    "nteract": {
     "transient": {
      "deleting": false
     }
    }
   },
   "outputs": [],
   "source": [
    "from scipy.linalg import expm\n",
    "from scipy.optimize import minimize"
   ]
  },
  {
   "cell_type": "code",
   "execution_count": 10,
   "metadata": {
    "jupyter": {
     "outputs_hidden": false,
     "source_hidden": false
    },
    "nteract": {
     "transient": {
      "deleting": false
     }
    }
   },
   "outputs": [
    {
     "name": "stderr",
     "output_type": "stream",
     "text": [
      "/usr/local/lib/python3.7/site-packages/scipy/optimize/_minimize.py:545: RuntimeWarning: Method COBYLA cannot handle bounds.\n",
      "  RuntimeWarning)\n"
     ]
    },
    {
     "name": "stdout",
     "output_type": "stream",
     "text": [
      "g0 Energy:       2.1868000 Eh\n",
      "g1 Energy:      -0.5394510 Eh\n",
      "g2 Energy:      -1.2749022 Eh\n",
      "g3 Energy:      -0.6719000 Eh\n",
      "g4 Energy:      -0.0005187 Eh\n",
      "g5 Energy:       0.0003032 Eh\n",
      "Total Energy:      -0.2996687 Eh\n",
      "\n",
      "\n",
      "g0 Energy:       2.1868000 Eh\n",
      "g1 Energy:      -0.3587077 Eh\n",
      "g2 Energy:      -0.8350056 Eh\n",
      "g3 Energy:      -0.6719000 Eh\n",
      "g4 Energy:      -0.0001835 Eh\n",
      "g5 Energy:       0.0005825 Eh\n",
      "Total Energy:       0.3215857 Eh\n",
      "\n",
      "\n",
      "g0 Energy:       2.1868000 Eh\n",
      "g1 Energy:      -0.2295119 Eh\n",
      "g2 Energy:      -0.5435001 Eh\n",
      "g3 Energy:      -0.6719000 Eh\n",
      "g4 Energy:      -0.0000399 Eh\n",
      "g5 Energy:       0.0004150 Eh\n",
      "Total Energy:       0.7422631 Eh\n",
      "\n",
      "\n",
      "g0 Energy:       2.1868000 Eh\n",
      "g1 Energy:      -0.4340129 Eh\n",
      "g2 Energy:      -1.0302435 Eh\n",
      "g3 Energy:      -0.6719000 Eh\n",
      "g4 Energy:       0.0003032 Eh\n",
      "g5 Energy:       0.0001516 Eh\n",
      "Total Energy:       0.0510985 Eh\n",
      "\n",
      "\n",
      "g0 Energy:       2.1868000 Eh\n",
      "g1 Energy:      -0.5420665 Eh\n",
      "g2 Energy:      -1.2803076 Eh\n",
      "g3 Energy:      -0.6719000 Eh\n",
      "g4 Energy:      -0.0005985 Eh\n",
      "g5 Energy:       0.0004469 Eh\n",
      "Total Energy:      -0.3076257 Eh\n",
      "\n",
      "\n",
      "g0 Energy:       2.1868000 Eh\n",
      "g1 Energy:      -0.5290979 Eh\n",
      "g2 Energy:      -1.2510927 Eh\n",
      "g3 Energy:      -0.6719000 Eh\n",
      "g4 Energy:      -0.0008698 Eh\n",
      "g5 Energy:      -0.0001197 Eh\n",
      "Total Energy:      -0.2662801 Eh\n",
      "\n",
      "\n",
      "g0 Energy:       2.1868000 Eh\n",
      "g1 Energy:      -0.5443551 Eh\n",
      "g2 Energy:      -1.2859704 Eh\n",
      "g3 Energy:      -0.6719000 Eh\n",
      "g4 Energy:      -0.0003671 Eh\n",
      "g5 Energy:      -0.0005426 Eh\n",
      "Total Energy:      -0.3163352 Eh\n",
      "\n",
      "\n",
      "g0 Energy:       2.1868000 Eh\n",
      "g1 Energy:      -0.5447910 Eh\n",
      "g2 Energy:      -1.2870000 Eh\n",
      "g3 Energy:      -0.6719000 Eh\n",
      "g4 Energy:       0.0000718 Eh\n",
      "g5 Energy:       0.0007262 Eh\n",
      "Total Energy:      -0.3160930 Eh\n",
      "\n",
      "\n",
      "g0 Energy:       2.1868000 Eh\n",
      "g1 Energy:      -0.5447910 Eh\n",
      "g2 Energy:      -1.2866139 Eh\n",
      "g3 Energy:      -0.6719000 Eh\n",
      "g4 Energy:       0.0008219 Eh\n",
      "g5 Energy:      -0.0001596 Eh\n",
      "Total Energy:      -0.3158426 Eh\n",
      "\n",
      "\n",
      "g0 Energy:       2.1868000 Eh\n",
      "g1 Energy:      -0.5437557 Eh\n",
      "g2 Energy:      -1.2844260 Eh\n",
      "g3 Energy:      -0.6719000 Eh\n",
      "g4 Energy:      -0.0002713 Eh\n",
      "g5 Energy:       0.0004628 Eh\n",
      "Total Energy:      -0.3130902 Eh\n",
      "\n",
      "\n",
      "g0 Energy:       2.1868000 Eh\n",
      "g1 Energy:      -0.5446276 Eh\n",
      "g2 Energy:      -1.2855843 Eh\n",
      "g3 Energy:      -0.6719000 Eh\n",
      "g4 Energy:       0.0005825 Eh\n",
      "g5 Energy:      -0.0006943 Eh\n",
      "Total Energy:      -0.3154236 Eh\n",
      "\n",
      "\n",
      "g0 Energy:       2.1868000 Eh\n",
      "g1 Energy:      -0.5443006 Eh\n",
      "g2 Energy:      -1.2857130 Eh\n",
      "g3 Energy:      -0.6719000 Eh\n",
      "g4 Energy:      -0.0004389 Eh\n",
      "g5 Energy:       0.0004948 Eh\n",
      "Total Energy:      -0.3150577 Eh\n",
      "\n",
      "\n",
      "g0 Energy:       2.1868000 Eh\n",
      "g1 Energy:      -0.5442461 Eh\n",
      "g2 Energy:      -1.2864852 Eh\n",
      "g3 Energy:      -0.6719000 Eh\n",
      "g4 Energy:       0.0003431 Eh\n",
      "g5 Energy:      -0.0000479 Eh\n",
      "Total Energy:      -0.3155361 Eh\n",
      "\n",
      "\n",
      "g0 Energy:       2.1868000 Eh\n",
      "g1 Energy:      -0.5443551 Eh\n",
      "g2 Energy:      -1.2844260 Eh\n",
      "g3 Energy:      -0.6719000 Eh\n",
      "g4 Energy:      -0.0000399 Eh\n",
      "g5 Energy:       0.0001117 Eh\n",
      "Total Energy:      -0.3138093 Eh\n",
      "\n",
      "\n",
      "g0 Energy:       2.1868000 Eh\n",
      "g1 Energy:      -0.5444096 Eh\n",
      "g2 Energy:      -1.2855843 Eh\n",
      "g3 Energy:      -0.6719000 Eh\n",
      "g4 Energy:       0.0001835 Eh\n",
      "g5 Energy:       0.0008539 Eh\n",
      "Total Energy:      -0.3140565 Eh\n",
      "\n",
      "\n",
      "g0 Energy:       2.1868000 Eh\n",
      "g1 Energy:      -0.5443551 Eh\n",
      "g2 Energy:      -1.2855843 Eh\n",
      "g3 Energy:      -0.6719000 Eh\n",
      "g4 Energy:       0.0002314 Eh\n",
      "g5 Energy:       0.0011810 Eh\n",
      "Total Energy:      -0.3136269 Eh\n",
      "\n",
      "\n",
      "g0 Energy:       2.1868000 Eh\n",
      "g1 Energy:      -0.5440282 Eh\n",
      "g2 Energy:      -1.2857130 Eh\n",
      "g3 Energy:      -0.6719000 Eh\n",
      "g4 Energy:       0.0000000 Eh\n",
      "g5 Energy:       0.0005666 Eh\n",
      "Total Energy:      -0.3142746 Eh\n",
      "\n",
      "\n",
      "g0 Energy:       2.1868000 Eh\n",
      "g1 Energy:      -0.5443551 Eh\n",
      "g2 Energy:      -1.2855843 Eh\n",
      "g3 Energy:      -0.6719000 Eh\n",
      "g4 Energy:       0.0000080 Eh\n",
      "g5 Energy:      -0.0014683 Eh\n",
      "Total Energy:      -0.3164997 Eh\n",
      "\n",
      "\n",
      "Aer Simulator VQE: \n",
      "  [+] theta:  +3.1876 deg\n",
      "  [+] energy: -0.31649974 Eh\n",
      "\n",
      "   Normal return from subroutine COBYLA\n",
      "\n",
      "   NFVALS =   18   F =-3.164997E-01    MAXCV = 0.000000E+00\n",
      "   X = 3.187600E+00\n"
     ]
    }
   ],
   "source": [
    "#theta  = [+3.0546895]\n",
    "theta  = [+3.0]\n",
    "global total_call\n",
    "total_call = 0\n",
    "\n",
    "result = minimize(procedural,theta,args=(aer_simulator_backend, 20000),method='COBYLA',bounds=[(0,2*np.pi)],options={'disp':True,'maxiter':50})\n",
    "\n",
    "theta  = result.x[0]\n",
    "val    = result.fun\n",
    "#it   = result.nit\n",
    "print(\"Aer Simulator VQE: \")\n",
    "print(\"  [+] theta:  {:+2.8} deg\".format(theta))\n",
    "print(\"  [+] energy: {:+2.8} Eh\".format(val))\n",
    "#print(\"  [+] iterations: {:+2} \".format(it))"
   ]
  },
  {
   "cell_type": "code",
   "execution_count": 11,
   "metadata": {
    "jupyter": {
     "outputs_hidden": false,
     "source_hidden": false
    },
    "nteract": {
     "transient": {
      "deleting": false
     }
    }
   },
   "outputs": [
    {
     "data": {
      "text/plain": [
       "True"
      ]
     },
     "execution_count": 11,
     "metadata": {},
     "output_type": "execute_result"
    }
   ],
   "source": [
    "result.success"
   ]
  },
  {
   "cell_type": "code",
   "execution_count": 12,
   "metadata": {
    "jupyter": {
     "outputs_hidden": false,
     "source_hidden": false
    },
    "nteract": {
     "transient": {
      "deleting": false
     }
    }
   },
   "outputs": [
    {
     "name": "stdout",
     "output_type": "stream",
     "text": [
      "18\n"
     ]
    }
   ],
   "source": [
    "print(total_call)"
   ]
  },
  {
   "cell_type": "code",
   "execution_count": 13,
   "metadata": {
    "jupyter": {
     "outputs_hidden": false,
     "source_hidden": false
    },
    "nteract": {
     "transient": {
      "deleting": false
     }
    }
   },
   "outputs": [
    {
     "name": "stdout",
     "output_type": "stream",
     "text": [
      "g0 Energy:       2.1868000 Eh\n",
      "...................g1 Energy:      -0.4707936 Eh\n",
      "g2 Energy:      -1.2046320 Eh\n",
      "g3 Energy:      -0.6235232 Eh\n",
      ".....g4 Energy:      -0.0019152 Eh\n",
      ".......g5 Energy:       0.0003192 Eh\n",
      "Total Energy:      -0.1137448 Eh\n",
      "\n",
      "\n",
      "g0 Energy:       2.1868000 Eh\n",
      "...........................g1 Energy:      -0.4097648 Eh\n",
      "g2 Energy:      -0.9678240 Eh\n",
      "g3 Energy:      -0.6288984 Eh\n",
      "g4 Energy:      -0.0041496 Eh\n",
      "g5 Energy:      -0.0003192 Eh\n",
      "Total Energy:       0.1758440 Eh\n",
      "\n",
      "\n",
      "g0 Energy:       2.1868000 Eh\n",
      "...........................................g1 Energy:      -0.1089800 Eh\n",
      "g2 Energy:      -0.4427280 Eh\n",
      "g3 Energy:      -0.5832092 Eh\n",
      "g4 Energy:       0.0003192 Eh\n",
      "g5 Energy:      -0.0057456 Eh\n",
      "Total Energy:       1.0464564 Eh\n",
      "\n",
      "\n",
      "g0 Energy:       2.1868000 Eh\n",
      ".................g1 Energy:      -0.3574544 Eh\n",
      "g2 Energy:      -0.9472320 Eh\n",
      "g3 Energy:      -0.5832092 Eh\n",
      "..g4 Energy:       0.0022344 Eh\n",
      ".....g5 Energy:       0.0047880 Eh\n",
      "Total Energy:       0.3059268 Eh\n",
      "\n",
      "\n",
      "g0 Energy:       2.1868000 Eh\n",
      "................................................................g1 Energy:      -0.4860508 Eh\n",
      "g2 Energy:      -1.1943360 Eh\n",
      ".......g3 Energy:      -0.6127728 Eh\n",
      "g4 Energy:       0.0019152 Eh\n",
      ".......g5 Energy:       0.0028728 Eh\n",
      "Total Energy:      -0.1015716 Eh\n",
      "\n",
      "\n",
      "g0 Energy:       2.1868000 Eh\n",
      ".................g1 Energy:      -0.4097648 Eh\n",
      "....g2 Energy:      -1.0707840 Eh\n",
      ".......g3 Energy:      -0.6073976 Eh\n",
      ".....g4 Energy:       0.0003192 Eh\n",
      ".......g5 Energy:      -0.0019152 Eh\n",
      "Total Energy:       0.0972576 Eh\n",
      "\n",
      "\n",
      "g0 Energy:       2.1868000 Eh\n",
      "...................................................................................g1 Energy:      -0.4489976 Eh\n",
      ".g2 Energy:      -1.1943360 Eh\n",
      "........g3 Energy:      -0.5858968 Eh\n",
      ".......g4 Energy:       0.0015960 Eh\n",
      "g5 Energy:      -0.0019152 Eh\n",
      "Total Energy:      -0.0427496 Eh\n",
      "\n",
      "\n",
      "g0 Energy:       2.1868000 Eh\n",
      ".................................................................................g1 Energy:      -0.4860508 Eh\n",
      "g2 Energy:      -1.1634480 Eh\n",
      "g3 Energy:      -0.5697712 Eh\n",
      ".....g4 Energy:      -0.0044688 Eh\n",
      "......g5 Energy:      -0.0022344 Eh\n",
      "Total Energy:      -0.0391732 Eh\n",
      "\n",
      "\n",
      "g0 Energy:       2.1868000 Eh\n",
      "........................................g1 Energy:      -0.4860508 Eh\n",
      "g2 Energy:      -1.1685960 Eh\n",
      "g3 Energy:      -0.6181480 Eh\n",
      "g4 Energy:      -0.0022344 Eh\n",
      ".....g5 Energy:       0.0000000 Eh\n",
      "Total Energy:      -0.0882292 Eh\n",
      "\n",
      "\n",
      "g0 Energy:       2.1868000 Eh\n",
      ".....................g1 Energy:      -0.4468180 Eh\n",
      "g2 Energy:      -1.1994840 Eh\n",
      "g3 Energy:      -0.5428952 Eh\n",
      "g4 Energy:      -0.0054264 Eh\n",
      "g5 Energy:      -0.0047880 Eh\n",
      "Total Energy:      -0.0126116 Eh\n",
      "\n",
      "\n",
      "g0 Energy:       2.1868000 Eh\n",
      "...........................................g1 Energy:      -0.4664344 Eh\n",
      "g2 Energy:      -1.1891880 Eh\n",
      "g3 Energy:      -0.5643960 Eh\n",
      "g4 Energy:       0.0009576 Eh\n",
      ".......................g5 Energy:      -0.0070224 Eh\n",
      "Total Energy:      -0.0392832 Eh\n",
      "\n",
      "\n",
      "g0 Energy:       2.1868000 Eh\n",
      "...............................g1 Energy:      -0.4359200 Eh\n",
      "g2 Energy:      -1.1171160 Eh\n",
      "g3 Energy:      -0.6073976 Eh\n",
      "g4 Energy:      -0.0006384 Eh\n",
      "g5 Energy:      -0.0009576 Eh\n",
      "Total Energy:       0.0247704 Eh\n",
      "\n",
      "\n",
      "g0 Energy:       2.1868000 Eh\n",
      "..........................g1 Energy:      -0.4511772 Eh\n",
      ".....g2 Energy:      -1.1840400 Eh\n",
      ".......g3 Energy:      -0.5778340 Eh\n",
      "g4 Energy:      -0.0054264 Eh\n",
      "......g5 Energy:       0.0003192 Eh\n",
      "Total Energy:      -0.0313584 Eh\n",
      "\n",
      "\n",
      "g0 Energy:       2.1868000 Eh\n",
      "..............................................................g1 Energy:      -0.3923280 Eh\n",
      "g2 Energy:      -1.1788920 Eh\n",
      "......g3 Energy:      -0.5885844 Eh\n",
      "....g4 Energy:      -0.0031920 Eh\n",
      "........g5 Energy:       0.0047880 Eh\n",
      "Total Energy:       0.0285916 Eh\n",
      "\n",
      "\n",
      "g0 Energy:       2.1868000 Eh\n",
      "..................................................................................................................."
     ]
    }
   ],
   "source": [
    "#theta  = [+3.0546895]\n",
    "theta  = [+3.0]\n",
    "global total_call\n",
    "total_call = 0\n",
    "\n",
    "result = minimize(procedural,theta,args=(ionq_qpu_backend, 500),method='COBYLA',bounds=[(0,2*np.pi)],options={'disp':True,'maxiter':50})\n",
    "\n",
    "theta  = result.x[0]\n",
    "val    = result.fun\n",
    "#it   = result.nit\n",
    "print(\"Aer Simulator VQE: \")\n",
    "print(\"  [+] theta:  {:+2.8} deg\".format(theta))\n",
    "print(\"  [+] energy: {:+2.8} Eh\".format(val))\n",
    "#print(\"  [+] iterations: {:+2} \".format(it))"
   ]
  }
 ],
 "metadata": {
  "kernel_info": {
   "name": "python3"
  },
  "kernelspec": {
   "display_name": "Python 3",
   "language": "python",
   "name": "python3"
  },
  "language_info": {
   "codemirror_mode": {
    "name": "ipython",
    "version": 3
   },
   "file_extension": ".py",
   "mimetype": "text/x-python",
   "name": "python",
   "nbconvert_exporter": "python",
   "pygments_lexer": "ipython3",
   "version": "3.7.4"
  },
  "nteract": {
   "version": "nteract-front-end@1.0.0"
  }
 },
 "nbformat": 4,
 "nbformat_minor": 1
}
